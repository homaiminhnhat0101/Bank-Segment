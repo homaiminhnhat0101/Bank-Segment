{
  "cells": [
    {
      "cell_type": "code",
      "execution_count": null,
      "metadata": {
        "id": "05vBwSruHC1L",
        "colab": {
          "base_uri": "https://localhost:8080/"
        },
        "outputId": "2e75c9f3-2ea0-4193-f0bf-db076432c8f3"
      },
      "outputs": [
        {
          "output_type": "stream",
          "name": "stdout",
          "text": [
            "Mounted at /content/gdrive\n"
          ]
        }
      ],
      "source": [
        "from google.colab import drive\n",
        "drive.mount('/content/gdrive')"
      ]
    },
    {
      "cell_type": "code",
      "execution_count": null,
      "metadata": {
        "id": "5SRLjkbPEywd"
      },
      "outputs": [],
      "source": [
        "#Import modules:\n",
        "import numpy as np\n",
        "import pandas as pd\n",
        "import matplotlib.pyplot as plt\n",
        "import seaborn as sns\n",
        "import statsmodels.api as sm\n",
        "import datetime\n",
        "from sklearn import preprocessing\n",
        "from sklearn.cluster import KMeans,DBSCAN\n",
        "from sklearn import preprocessing\n",
        "from sklearn.preprocessing import StandardScaler\n",
        "from pandas.core.common import random_state\n",
        "from sklearn.metrics import silhouette_score\n",
        "pd.set_option('display.max_columns', None)  "
      ]
    },
    {
      "cell_type": "code",
      "execution_count": null,
      "metadata": {
        "id": "T5QVqsVAE82i"
      },
      "outputs": [],
      "source": [
        "path = '/content/gdrive/MyDrive/Data/bank_transactions.csv'"
      ]
    },
    {
      "cell_type": "code",
      "execution_count": null,
      "metadata": {
        "id": "tNFDcPYGE_Eu",
        "colab": {
          "base_uri": "https://localhost:8080/",
          "height": 206
        },
        "outputId": "00afbb62-d18f-4866-fa5a-b6e324c9e2a6"
      },
      "outputs": [
        {
          "output_type": "execute_result",
          "data": {
            "text/plain": [
              "  TransactionID CustomerID CustomerDOB CustGender CustLocation  \\\n",
              "0            T1   C5841053     10/1/94          F   JAMSHEDPUR   \n",
              "1            T2   C2142763      4/4/57          M      JHAJJAR   \n",
              "2            T3   C4417068    26/11/96          F       MUMBAI   \n",
              "3            T4   C5342380     14/9/73          F       MUMBAI   \n",
              "4            T5   C9031234     24/3/88          F  NAVI MUMBAI   \n",
              "\n",
              "   CustAccountBalance TransactionDate  TransactionTime  \\\n",
              "0            17819.05          2/8/16           143207   \n",
              "1             2270.69          2/8/16           141858   \n",
              "2            17874.44          2/8/16           142712   \n",
              "3           866503.21          2/8/16           142714   \n",
              "4             6714.43          2/8/16           181156   \n",
              "\n",
              "   TransactionAmount (INR)  \n",
              "0                     25.0  \n",
              "1                  27999.0  \n",
              "2                    459.0  \n",
              "3                   2060.0  \n",
              "4                   1762.5  "
            ],
            "text/html": [
              "\n",
              "  <div id=\"df-f0f6daa7-8461-4679-86d9-86f03c4bda2f\">\n",
              "    <div class=\"colab-df-container\">\n",
              "      <div>\n",
              "<style scoped>\n",
              "    .dataframe tbody tr th:only-of-type {\n",
              "        vertical-align: middle;\n",
              "    }\n",
              "\n",
              "    .dataframe tbody tr th {\n",
              "        vertical-align: top;\n",
              "    }\n",
              "\n",
              "    .dataframe thead th {\n",
              "        text-align: right;\n",
              "    }\n",
              "</style>\n",
              "<table border=\"1\" class=\"dataframe\">\n",
              "  <thead>\n",
              "    <tr style=\"text-align: right;\">\n",
              "      <th></th>\n",
              "      <th>TransactionID</th>\n",
              "      <th>CustomerID</th>\n",
              "      <th>CustomerDOB</th>\n",
              "      <th>CustGender</th>\n",
              "      <th>CustLocation</th>\n",
              "      <th>CustAccountBalance</th>\n",
              "      <th>TransactionDate</th>\n",
              "      <th>TransactionTime</th>\n",
              "      <th>TransactionAmount (INR)</th>\n",
              "    </tr>\n",
              "  </thead>\n",
              "  <tbody>\n",
              "    <tr>\n",
              "      <th>0</th>\n",
              "      <td>T1</td>\n",
              "      <td>C5841053</td>\n",
              "      <td>10/1/94</td>\n",
              "      <td>F</td>\n",
              "      <td>JAMSHEDPUR</td>\n",
              "      <td>17819.05</td>\n",
              "      <td>2/8/16</td>\n",
              "      <td>143207</td>\n",
              "      <td>25.0</td>\n",
              "    </tr>\n",
              "    <tr>\n",
              "      <th>1</th>\n",
              "      <td>T2</td>\n",
              "      <td>C2142763</td>\n",
              "      <td>4/4/57</td>\n",
              "      <td>M</td>\n",
              "      <td>JHAJJAR</td>\n",
              "      <td>2270.69</td>\n",
              "      <td>2/8/16</td>\n",
              "      <td>141858</td>\n",
              "      <td>27999.0</td>\n",
              "    </tr>\n",
              "    <tr>\n",
              "      <th>2</th>\n",
              "      <td>T3</td>\n",
              "      <td>C4417068</td>\n",
              "      <td>26/11/96</td>\n",
              "      <td>F</td>\n",
              "      <td>MUMBAI</td>\n",
              "      <td>17874.44</td>\n",
              "      <td>2/8/16</td>\n",
              "      <td>142712</td>\n",
              "      <td>459.0</td>\n",
              "    </tr>\n",
              "    <tr>\n",
              "      <th>3</th>\n",
              "      <td>T4</td>\n",
              "      <td>C5342380</td>\n",
              "      <td>14/9/73</td>\n",
              "      <td>F</td>\n",
              "      <td>MUMBAI</td>\n",
              "      <td>866503.21</td>\n",
              "      <td>2/8/16</td>\n",
              "      <td>142714</td>\n",
              "      <td>2060.0</td>\n",
              "    </tr>\n",
              "    <tr>\n",
              "      <th>4</th>\n",
              "      <td>T5</td>\n",
              "      <td>C9031234</td>\n",
              "      <td>24/3/88</td>\n",
              "      <td>F</td>\n",
              "      <td>NAVI MUMBAI</td>\n",
              "      <td>6714.43</td>\n",
              "      <td>2/8/16</td>\n",
              "      <td>181156</td>\n",
              "      <td>1762.5</td>\n",
              "    </tr>\n",
              "  </tbody>\n",
              "</table>\n",
              "</div>\n",
              "      <button class=\"colab-df-convert\" onclick=\"convertToInteractive('df-f0f6daa7-8461-4679-86d9-86f03c4bda2f')\"\n",
              "              title=\"Convert this dataframe to an interactive table.\"\n",
              "              style=\"display:none;\">\n",
              "        \n",
              "  <svg xmlns=\"http://www.w3.org/2000/svg\" height=\"24px\"viewBox=\"0 0 24 24\"\n",
              "       width=\"24px\">\n",
              "    <path d=\"M0 0h24v24H0V0z\" fill=\"none\"/>\n",
              "    <path d=\"M18.56 5.44l.94 2.06.94-2.06 2.06-.94-2.06-.94-.94-2.06-.94 2.06-2.06.94zm-11 1L8.5 8.5l.94-2.06 2.06-.94-2.06-.94L8.5 2.5l-.94 2.06-2.06.94zm10 10l.94 2.06.94-2.06 2.06-.94-2.06-.94-.94-2.06-.94 2.06-2.06.94z\"/><path d=\"M17.41 7.96l-1.37-1.37c-.4-.4-.92-.59-1.43-.59-.52 0-1.04.2-1.43.59L10.3 9.45l-7.72 7.72c-.78.78-.78 2.05 0 2.83L4 21.41c.39.39.9.59 1.41.59.51 0 1.02-.2 1.41-.59l7.78-7.78 2.81-2.81c.8-.78.8-2.07 0-2.86zM5.41 20L4 18.59l7.72-7.72 1.47 1.35L5.41 20z\"/>\n",
              "  </svg>\n",
              "      </button>\n",
              "      \n",
              "  <style>\n",
              "    .colab-df-container {\n",
              "      display:flex;\n",
              "      flex-wrap:wrap;\n",
              "      gap: 12px;\n",
              "    }\n",
              "\n",
              "    .colab-df-convert {\n",
              "      background-color: #E8F0FE;\n",
              "      border: none;\n",
              "      border-radius: 50%;\n",
              "      cursor: pointer;\n",
              "      display: none;\n",
              "      fill: #1967D2;\n",
              "      height: 32px;\n",
              "      padding: 0 0 0 0;\n",
              "      width: 32px;\n",
              "    }\n",
              "\n",
              "    .colab-df-convert:hover {\n",
              "      background-color: #E2EBFA;\n",
              "      box-shadow: 0px 1px 2px rgba(60, 64, 67, 0.3), 0px 1px 3px 1px rgba(60, 64, 67, 0.15);\n",
              "      fill: #174EA6;\n",
              "    }\n",
              "\n",
              "    [theme=dark] .colab-df-convert {\n",
              "      background-color: #3B4455;\n",
              "      fill: #D2E3FC;\n",
              "    }\n",
              "\n",
              "    [theme=dark] .colab-df-convert:hover {\n",
              "      background-color: #434B5C;\n",
              "      box-shadow: 0px 1px 3px 1px rgba(0, 0, 0, 0.15);\n",
              "      filter: drop-shadow(0px 1px 2px rgba(0, 0, 0, 0.3));\n",
              "      fill: #FFFFFF;\n",
              "    }\n",
              "  </style>\n",
              "\n",
              "      <script>\n",
              "        const buttonEl =\n",
              "          document.querySelector('#df-f0f6daa7-8461-4679-86d9-86f03c4bda2f button.colab-df-convert');\n",
              "        buttonEl.style.display =\n",
              "          google.colab.kernel.accessAllowed ? 'block' : 'none';\n",
              "\n",
              "        async function convertToInteractive(key) {\n",
              "          const element = document.querySelector('#df-f0f6daa7-8461-4679-86d9-86f03c4bda2f');\n",
              "          const dataTable =\n",
              "            await google.colab.kernel.invokeFunction('convertToInteractive',\n",
              "                                                     [key], {});\n",
              "          if (!dataTable) return;\n",
              "\n",
              "          const docLinkHtml = 'Like what you see? Visit the ' +\n",
              "            '<a target=\"_blank\" href=https://colab.research.google.com/notebooks/data_table.ipynb>data table notebook</a>'\n",
              "            + ' to learn more about interactive tables.';\n",
              "          element.innerHTML = '';\n",
              "          dataTable['output_type'] = 'display_data';\n",
              "          await google.colab.output.renderOutput(dataTable, element);\n",
              "          const docLink = document.createElement('div');\n",
              "          docLink.innerHTML = docLinkHtml;\n",
              "          element.appendChild(docLink);\n",
              "        }\n",
              "      </script>\n",
              "    </div>\n",
              "  </div>\n",
              "  "
            ]
          },
          "metadata": {},
          "execution_count": 4
        }
      ],
      "source": [
        "#Read dataset: \n",
        "df = pd.read_csv(path)\n",
        "df.head()"
      ]
    },
    {
      "cell_type": "markdown",
      "metadata": {
        "id": "hYowjkK3xfL8"
      },
      "source": [
        "## 1. Data preparation:"
      ]
    },
    {
      "cell_type": "code",
      "execution_count": null,
      "metadata": {
        "id": "Xpp--1Q7H53N",
        "colab": {
          "base_uri": "https://localhost:8080/"
        },
        "outputId": "eb90009a-8e7a-430c-faa6-95284fa80384"
      },
      "outputs": [
        {
          "output_type": "stream",
          "name": "stdout",
          "text": [
            "<class 'pandas.core.frame.DataFrame'>\n",
            "RangeIndex: 1048567 entries, 0 to 1048566\n",
            "Data columns (total 9 columns):\n",
            " #   Column                   Non-Null Count    Dtype  \n",
            "---  ------                   --------------    -----  \n",
            " 0   TransactionID            1048567 non-null  object \n",
            " 1   CustomerID               1048567 non-null  object \n",
            " 2   CustomerDOB              1045170 non-null  object \n",
            " 3   CustGender               1047467 non-null  object \n",
            " 4   CustLocation             1048416 non-null  object \n",
            " 5   CustAccountBalance       1046198 non-null  float64\n",
            " 6   TransactionDate          1048567 non-null  object \n",
            " 7   TransactionTime          1048567 non-null  int64  \n",
            " 8   TransactionAmount (INR)  1048567 non-null  float64\n",
            "dtypes: float64(2), int64(1), object(6)\n",
            "memory usage: 72.0+ MB\n"
          ]
        }
      ],
      "source": [
        "df.info() #There is no null values."
      ]
    },
    {
      "cell_type": "code",
      "execution_count": null,
      "metadata": {
        "id": "_JLcjjUXw6_7",
        "colab": {
          "base_uri": "https://localhost:8080/"
        },
        "outputId": "88adc3e3-c197-4e2a-ab5b-7a294a76fc9b"
      },
      "outputs": [
        {
          "output_type": "execute_result",
          "data": {
            "text/plain": [
              "TransactionID                 0\n",
              "CustomerID                    0\n",
              "CustomerDOB                3397\n",
              "CustGender                 1100\n",
              "CustLocation                151\n",
              "CustAccountBalance         2369\n",
              "TransactionDate               0\n",
              "TransactionTime               0\n",
              "TransactionAmount (INR)       0\n",
              "dtype: int64"
            ]
          },
          "metadata": {},
          "execution_count": 6
        }
      ],
      "source": [
        "#Check na values:\n",
        "df.isna().sum()"
      ]
    },
    {
      "cell_type": "code",
      "execution_count": null,
      "metadata": {
        "id": "jB3SsPOCxCSW"
      },
      "outputs": [],
      "source": [
        "df = df.dropna()"
      ]
    },
    {
      "cell_type": "code",
      "execution_count": null,
      "metadata": {
        "id": "paw3bd_ZIBLG",
        "colab": {
          "base_uri": "https://localhost:8080/"
        },
        "outputId": "caba7ed4-fe03-4f87-cd9f-4ea7f50bef8b"
      },
      "outputs": [
        {
          "output_type": "execute_result",
          "data": {
            "text/plain": [
              "T1          1\n",
              "T699342     1\n",
              "T699328     1\n",
              "T699329     1\n",
              "T699330     1\n",
              "           ..\n",
              "T349709     1\n",
              "T349710     1\n",
              "T349711     1\n",
              "T349712     1\n",
              "T1048567    1\n",
              "Name: TransactionID, Length: 1041614, dtype: int64"
            ]
          },
          "metadata": {},
          "execution_count": 8
        }
      ],
      "source": [
        "df['CustomerID'].value_counts()\n",
        "df['TransactionID'].value_counts()\n",
        "#CustomerID duplicated while TransactionID is not"
      ]
    },
    {
      "cell_type": "code",
      "execution_count": null,
      "metadata": {
        "id": "ka577oGlb11D",
        "colab": {
          "base_uri": "https://localhost:8080/"
        },
        "outputId": "eed9d921-9600-40d0-d33d-973a86eca623"
      },
      "outputs": [
        {
          "output_type": "execute_result",
          "data": {
            "text/plain": [
              "879358"
            ]
          },
          "metadata": {},
          "execution_count": 9
        }
      ],
      "source": [
        "df['CustomerID'].nunique()"
      ]
    },
    {
      "cell_type": "code",
      "source": [
        "df['TransactionDate'].nunique()"
      ],
      "metadata": {
        "colab": {
          "base_uri": "https://localhost:8080/"
        },
        "id": "bL7dOi7XQvbZ",
        "outputId": "e8c97089-df77-4c41-b0fc-801712570a46"
      },
      "execution_count": null,
      "outputs": [
        {
          "output_type": "execute_result",
          "data": {
            "text/plain": [
              "55"
            ]
          },
          "metadata": {},
          "execution_count": 10
        }
      ]
    },
    {
      "cell_type": "code",
      "execution_count": null,
      "metadata": {
        "id": "GLUQcrcEyU7B",
        "colab": {
          "base_uri": "https://localhost:8080/"
        },
        "outputId": "48c4679e-53e6-4443-ad8a-8d065043ebc3"
      },
      "outputs": [
        {
          "output_type": "execute_result",
          "data": {
            "text/plain": [
              "1/1/1800    56292\n",
              "1/1/89        809\n",
              "1/1/90        784\n",
              "6/8/91        698\n",
              "1/1/91        665\n",
              "            ...  \n",
              "2/12/51         1\n",
              "20/3/52         1\n",
              "26/9/47         1\n",
              "4/10/41         1\n",
              "24/10/44        1\n",
              "Name: CustomerDOB, Length: 17233, dtype: int64"
            ]
          },
          "metadata": {},
          "execution_count": 11
        }
      ],
      "source": [
        "#CustDOB:\n",
        "df['CustomerDOB'].value_counts()\n",
        "#56292 values with YOB is 1800 before converting to datetime"
      ]
    },
    {
      "cell_type": "code",
      "execution_count": null,
      "metadata": {
        "id": "rWJWZmPeyxTp"
      },
      "outputs": [],
      "source": [
        "df = df.drop(df[df['CustomerDOB'] == '1/1/1800'].index, axis = 0)"
      ]
    },
    {
      "cell_type": "code",
      "execution_count": null,
      "metadata": {
        "id": "Fam5SZiRJi7h",
        "colab": {
          "base_uri": "https://localhost:8080/"
        },
        "outputId": "bbebd501-307c-42c0-ae3d-276a9f06fbdc"
      },
      "outputs": [
        {
          "output_type": "execute_result",
          "data": {
            "text/plain": [
              "M    712454\n",
              "F    272868\n",
              "Name: CustGender, dtype: int64"
            ]
          },
          "metadata": {},
          "execution_count": 13
        }
      ],
      "source": [
        "#Gender: \n",
        "df['CustGender'].value_counts() #M ~ 3F, T?"
      ]
    },
    {
      "cell_type": "code",
      "execution_count": null,
      "metadata": {
        "id": "IMDTFi36JvZE",
        "colab": {
          "base_uri": "https://localhost:8080/"
        },
        "outputId": "153490a4-c8b2-41c7-e959-25110e1e43cf"
      },
      "outputs": [
        {
          "output_type": "execute_result",
          "data": {
            "text/plain": [
              "MUMBAI                       97679\n",
              "BANGALORE                    77751\n",
              "NEW DELHI                    76380\n",
              "GURGAON                      70518\n",
              "DELHI                        67335\n",
              "                             ...  \n",
              "KAMALPUR                         1\n",
              "JUFFAIR                          1\n",
              "CHAKALA ANDHERI -E MUMBAI        1\n",
              "CORPORATION THANE                1\n",
              "IMPERIA THANE WEST               1\n",
              "Name: CustLocation, Length: 8164, dtype: int64"
            ]
          },
          "metadata": {},
          "execution_count": 14
        }
      ],
      "source": [
        "#Custlocation: \n",
        "df['CustLocation'].value_counts()"
      ]
    },
    {
      "cell_type": "code",
      "execution_count": null,
      "metadata": {
        "id": "qoHs1MTbzAqS"
      },
      "outputs": [],
      "source": [
        "df['CustomerDOB'] = pd.to_datetime(df['CustomerDOB']) #convert data to datetime"
      ]
    },
    {
      "cell_type": "code",
      "execution_count": null,
      "metadata": {
        "id": "0h8miLUDacJQ"
      },
      "outputs": [],
      "source": [
        "df['TransactionDate'] = pd.to_datetime(df['TransactionDate'])"
      ]
    },
    {
      "cell_type": "code",
      "execution_count": null,
      "metadata": {
        "id": "v41oLXW3KfH7",
        "colab": {
          "base_uri": "https://localhost:8080/",
          "height": 468
        },
        "outputId": "ccfeb28b-a67a-40ec-ec2b-d61f77d281fd"
      },
      "outputs": [
        {
          "output_type": "stream",
          "name": "stderr",
          "text": [
            "/usr/local/lib/python3.8/dist-packages/seaborn/distributions.py:2619: FutureWarning: `distplot` is a deprecated function and will be removed in a future version. Please adapt your code to use either `displot` (a figure-level function with similar flexibility) or `histplot` (an axes-level function for histograms).\n",
            "  warnings.warn(msg, FutureWarning)\n",
            "/usr/local/lib/python3.8/dist-packages/seaborn/distributions.py:2619: FutureWarning: `distplot` is a deprecated function and will be removed in a future version. Please adapt your code to use either `displot` (a figure-level function with similar flexibility) or `histplot` (an axes-level function for histograms).\n",
            "  warnings.warn(msg, FutureWarning)\n",
            "/usr/local/lib/python3.8/dist-packages/seaborn/distributions.py:2619: FutureWarning: `distplot` is a deprecated function and will be removed in a future version. Please adapt your code to use either `displot` (a figure-level function with similar flexibility) or `histplot` (an axes-level function for histograms).\n",
            "  warnings.warn(msg, FutureWarning)\n"
          ]
        },
        {
          "output_type": "display_data",
          "data": {
            "text/plain": [
              "<Figure size 864x360 with 3 Axes>"
            ],
            "image/png": "[encoded data removed]"
          },
          "metadata": {
            "needs_background": "light"
          }
        }
      ],
      "source": [
        "fig, ax = plt.subplots(1, 3, figsize=(12,5))\n",
        "sns.distplot(x=df['CustAccountBalance'], ax = ax[0])\n",
        "sns.distplot(x=df['TransactionAmount (INR)'], ax = ax[1])\n",
        "sns.distplot(x=df['TransactionTime'], ax = ax[2])\n",
        "plt.show()"
      ]
    },
    {
      "cell_type": "code",
      "execution_count": null,
      "metadata": {
        "id": "KVO_KyZfM1DC",
        "colab": {
          "base_uri": "https://localhost:8080/",
          "height": 296
        },
        "outputId": "43301b60-d7bd-49ce-a6e7-b8a057a87126"
      },
      "outputs": [
        {
          "output_type": "execute_result",
          "data": {
            "text/plain": [
              "<matplotlib.axes._subplots.AxesSubplot at 0x7f75c24c91f0>"
            ]
          },
          "metadata": {},
          "execution_count": 18
        },
        {
          "output_type": "display_data",
          "data": {
            "text/plain": [
              "<Figure size 432x288 with 1 Axes>"
            ],
            "image/png": "[encoded data removed]"
          },
          "metadata": {
            "needs_background": "light"
          }
        }
      ],
      "source": [
        "sns.boxplot(x=df['TransactionAmount (INR)'])"
      ]
    },
    {
      "cell_type": "code",
      "execution_count": null,
      "metadata": {
        "id": "GGGlR-oazDd5",
        "colab": {
          "base_uri": "https://localhost:8080/",
          "height": 296
        },
        "outputId": "79e5e714-dce3-40ef-c9fc-01ff53e1a08c"
      },
      "outputs": [
        {
          "output_type": "execute_result",
          "data": {
            "text/plain": [
              "<matplotlib.axes._subplots.AxesSubplot at 0x7f75bd4ba490>"
            ]
          },
          "metadata": {},
          "execution_count": 19
        },
        {
          "output_type": "display_data",
          "data": {
            "text/plain": [
              "<Figure size 432x288 with 1 Axes>"
            ],
            "image/png": "[encoded data removed]"
          },
          "metadata": {
            "needs_background": "light"
          }
        }
      ],
      "source": [
        "sns.boxplot(x=df['CustAccountBalance'])"
      ]
    },
    {
      "cell_type": "code",
      "execution_count": null,
      "metadata": {
        "id": "alPX0r0KF69W"
      },
      "outputs": [],
      "source": [
        "#Create rfm df: \n",
        "df_rfm = df\n",
        "#RFM: \n",
        "recent_date = max(df['TransactionDate']) + datetime.timedelta(days=1)\n",
        "\n",
        "df_rfm = df_rfm.groupby(['CustomerID']).agg(\n",
        "    {\n",
        "      'TransactionDate':lambda x: (recent_date - x.max()).days,  \n",
        "      'CustomerID':'count',\n",
        "      'TransactionAmount (INR)':'sum'\n",
        "    }\n",
        ")"
      ]
    },
    {
      "cell_type": "code",
      "source": [
        "df_rfm.columns = ['Recency','Frequency','Monetary']\n",
        "df_rfm.head()"
      ],
      "metadata": {
        "id": "51C-AMWCMVkT",
        "colab": {
          "base_uri": "https://localhost:8080/",
          "height": 237
        },
        "outputId": "e519fb8d-933a-4177-b95f-cf4d3716f456"
      },
      "execution_count": null,
      "outputs": [
        {
          "output_type": "execute_result",
          "data": {
            "text/plain": [
              "            Recency  Frequency  Monetary\n",
              "CustomerID                              \n",
              "C1010011         75          2    5106.0\n",
              "C1010012        118          1    1499.0\n",
              "C1010014        155          2    1455.0\n",
              "C1010018         86          1      30.0\n",
              "C1010024        114          1    5000.0"
            ],
            "text/html": [
              "\n",
              "  <div id=\"df-b6355aff-8e49-4154-a650-87a1bd37656e\">\n",
              "    <div class=\"colab-df-container\">\n",
              "      <div>\n",
              "<style scoped>\n",
              "    .dataframe tbody tr th:only-of-type {\n",
              "        vertical-align: middle;\n",
              "    }\n",
              "\n",
              "    .dataframe tbody tr th {\n",
              "        vertical-align: top;\n",
              "    }\n",
              "\n",
              "    .dataframe thead th {\n",
              "        text-align: right;\n",
              "    }\n",
              "</style>\n",
              "<table border=\"1\" class=\"dataframe\">\n",
              "  <thead>\n",
              "    <tr style=\"text-align: right;\">\n",
              "      <th></th>\n",
              "      <th>Recency</th>\n",
              "      <th>Frequency</th>\n",
              "      <th>Monetary</th>\n",
              "    </tr>\n",
              "    <tr>\n",
              "      <th>CustomerID</th>\n",
              "      <th></th>\n",
              "      <th></th>\n",
              "      <th></th>\n",
              "    </tr>\n",
              "  </thead>\n",
              "  <tbody>\n",
              "    <tr>\n",
              "      <th>C1010011</th>\n",
              "      <td>75</td>\n",
              "      <td>2</td>\n",
              "      <td>5106.0</td>\n",
              "    </tr>\n",
              "    <tr>\n",
              "      <th>C1010012</th>\n",
              "      <td>118</td>\n",
              "      <td>1</td>\n",
              "      <td>1499.0</td>\n",
              "    </tr>\n",
              "    <tr>\n",
              "      <th>C1010014</th>\n",
              "      <td>155</td>\n",
              "      <td>2</td>\n",
              "      <td>1455.0</td>\n",
              "    </tr>\n",
              "    <tr>\n",
              "      <th>C1010018</th>\n",
              "      <td>86</td>\n",
              "      <td>1</td>\n",
              "      <td>30.0</td>\n",
              "    </tr>\n",
              "    <tr>\n",
              "      <th>C1010024</th>\n",
              "      <td>114</td>\n",
              "      <td>1</td>\n",
              "      <td>5000.0</td>\n",
              "    </tr>\n",
              "  </tbody>\n",
              "</table>\n",
              "</div>\n",
              "      <button class=\"colab-df-convert\" onclick=\"convertToInteractive('df-b6355aff-8e49-4154-a650-87a1bd37656e')\"\n",
              "              title=\"Convert this dataframe to an interactive table.\"\n",
              "              style=\"display:none;\">\n",
              "        \n",
              "  <svg xmlns=\"http://www.w3.org/2000/svg\" height=\"24px\"viewBox=\"0 0 24 24\"\n",
              "       width=\"24px\">\n",
              "    <path d=\"M0 0h24v24H0V0z\" fill=\"none\"/>\n",
              "    <path d=\"M18.56 5.44l.94 2.06.94-2.06 2.06-.94-2.06-.94-.94-2.06-.94 2.06-2.06.94zm-11 1L8.5 8.5l.94-2.06 2.06-.94-2.06-.94L8.5 2.5l-.94 2.06-2.06.94zm10 10l.94 2.06.94-2.06 2.06-.94-2.06-.94-.94-2.06-.94 2.06-2.06.94z\"/><path d=\"M17.41 7.96l-1.37-1.37c-.4-.4-.92-.59-1.43-.59-.52 0-1.04.2-1.43.59L10.3 9.45l-7.72 7.72c-.78.78-.78 2.05 0 2.83L4 21.41c.39.39.9.59 1.41.59.51 0 1.02-.2 1.41-.59l7.78-7.78 2.81-2.81c.8-.78.8-2.07 0-2.86zM5.41 20L4 18.59l7.72-7.72 1.47 1.35L5.41 20z\"/>\n",
              "  </svg>\n",
              "      </button>\n",
              "      \n",
              "  <style>\n",
              "    .colab-df-container {\n",
              "      display:flex;\n",
              "      flex-wrap:wrap;\n",
              "      gap: 12px;\n",
              "    }\n",
              "\n",
              "    .colab-df-convert {\n",
              "      background-color: #E8F0FE;\n",
              "      border: none;\n",
              "      border-radius: 50%;\n",
              "      cursor: pointer;\n",
              "      display: none;\n",
              "      fill: #1967D2;\n",
              "      height: 32px;\n",
              "      padding: 0 0 0 0;\n",
              "      width: 32px;\n",
              "    }\n",
              "\n",
              "    .colab-df-convert:hover {\n",
              "      background-color: #E2EBFA;\n",
              "      box-shadow: 0px 1px 2px rgba(60, 64, 67, 0.3), 0px 1px 3px 1px rgba(60, 64, 67, 0.15);\n",
              "      fill: #174EA6;\n",
              "    }\n",
              "\n",
              "    [theme=dark] .colab-df-convert {\n",
              "      background-color: #3B4455;\n",
              "      fill: #D2E3FC;\n",
              "    }\n",
              "\n",
              "    [theme=dark] .colab-df-convert:hover {\n",
              "      background-color: #434B5C;\n",
              "      box-shadow: 0px 1px 3px 1px rgba(0, 0, 0, 0.15);\n",
              "      filter: drop-shadow(0px 1px 2px rgba(0, 0, 0, 0.3));\n",
              "      fill: #FFFFFF;\n",
              "    }\n",
              "  </style>\n",
              "\n",
              "      <script>\n",
              "        const buttonEl =\n",
              "          document.querySelector('#df-b6355aff-8e49-4154-a650-87a1bd37656e button.colab-df-convert');\n",
              "        buttonEl.style.display =\n",
              "          google.colab.kernel.accessAllowed ? 'block' : 'none';\n",
              "\n",
              "        async function convertToInteractive(key) {\n",
              "          const element = document.querySelector('#df-b6355aff-8e49-4154-a650-87a1bd37656e');\n",
              "          const dataTable =\n",
              "            await google.colab.kernel.invokeFunction('convertToInteractive',\n",
              "                                                     [key], {});\n",
              "          if (!dataTable) return;\n",
              "\n",
              "          const docLinkHtml = 'Like what you see? Visit the ' +\n",
              "            '<a target=\"_blank\" href=https://colab.research.google.com/notebooks/data_table.ipynb>data table notebook</a>'\n",
              "            + ' to learn more about interactive tables.';\n",
              "          element.innerHTML = '';\n",
              "          dataTable['output_type'] = 'display_data';\n",
              "          await google.colab.output.renderOutput(dataTable, element);\n",
              "          const docLink = document.createElement('div');\n",
              "          docLink.innerHTML = docLinkHtml;\n",
              "          element.appendChild(docLink);\n",
              "        }\n",
              "      </script>\n",
              "    </div>\n",
              "  </div>\n",
              "  "
            ]
          },
          "metadata": {},
          "execution_count": 21
        }
      ]
    },
    {
      "cell_type": "code",
      "source": [
        "fig, ax = plt.subplots(1, 3, figsize=(12,5))\n",
        "sns.distplot(x=df_rfm['Recency'], ax = ax[0])\n",
        "sns.distplot(x=df_rfm['Frequency'], ax = ax[1])\n",
        "sns.distplot(x=df_rfm['Monetary'], ax = ax[2])\n",
        "plt.show()"
      ],
      "metadata": {
        "id": "htJKaHycMzdP",
        "colab": {
          "base_uri": "https://localhost:8080/",
          "height": 468
        },
        "outputId": "5365e8d4-1b40-4715-88e9-29beeeff64fb"
      },
      "execution_count": null,
      "outputs": [
        {
          "output_type": "stream",
          "name": "stderr",
          "text": [
            "/usr/local/lib/python3.8/dist-packages/seaborn/distributions.py:2619: FutureWarning: `distplot` is a deprecated function and will be removed in a future version. Please adapt your code to use either `displot` (a figure-level function with similar flexibility) or `histplot` (an axes-level function for histograms).\n",
            "  warnings.warn(msg, FutureWarning)\n",
            "/usr/local/lib/python3.8/dist-packages/seaborn/distributions.py:2619: FutureWarning: `distplot` is a deprecated function and will be removed in a future version. Please adapt your code to use either `displot` (a figure-level function with similar flexibility) or `histplot` (an axes-level function for histograms).\n",
            "  warnings.warn(msg, FutureWarning)\n",
            "/usr/local/lib/python3.8/dist-packages/seaborn/distributions.py:2619: FutureWarning: `distplot` is a deprecated function and will be removed in a future version. Please adapt your code to use either `displot` (a figure-level function with similar flexibility) or `histplot` (an axes-level function for histograms).\n",
            "  warnings.warn(msg, FutureWarning)\n"
          ]
        },
        {
          "output_type": "display_data",
          "data": {
            "text/plain": [
              "<Figure size 864x360 with 3 Axes>"
            ],
            "image/png": "[encoded data removed]"
          },
          "metadata": {
            "needs_background": "light"
          }
        }
      ]
    },
    {
      "cell_type": "code",
      "source": [
        "from scipy import stats\n",
        "#transform data:\n",
        "def analyze_skewness(x):\n",
        "    fig, ax = plt.subplots(2, 2, figsize=(5,5))\n",
        "    sns.distplot(df_rfm[x], ax=ax[0,0])\n",
        "    #log:\n",
        "    sns.distplot(np.log(df_rfm[x]), ax=ax[0,1])\n",
        "    #sqrt:\n",
        "    sns.distplot(np.sqrt(df_rfm[x]), ax=ax[1,0])\n",
        "    #boxcox:\n",
        "    sns.distplot(stats.boxcox(df_rfm[x])[0], ax=ax[1,1])\n",
        "    plt.tight_layout()\n",
        "    plt.show()\n",
        "    \n",
        "    print(df_rfm[x].skew().round(2))\n",
        "    print(np.log(df_rfm[x]).skew().round(2))\n",
        "    print(np.sqrt(df_rfm[x]).skew().round(2))\n",
        "    print(pd.Series(stats.boxcox(df_rfm[x])[0]).skew().round(2))"
      ],
      "metadata": {
        "id": "NK8ZdM-wNda4"
      },
      "execution_count": null,
      "outputs": []
    },
    {
      "cell_type": "code",
      "source": [
        "analyze_skewness('Frequency')"
      ],
      "metadata": {
        "id": "vIsGK2mVWG1i",
        "colab": {
          "base_uri": "https://localhost:8080/",
          "height": 597
        },
        "outputId": "67a1cb45-f410-4552-fbd4-572b7fbac914"
      },
      "execution_count": null,
      "outputs": [
        {
          "output_type": "stream",
          "name": "stderr",
          "text": [
            "/usr/local/lib/python3.8/dist-packages/seaborn/distributions.py:2619: FutureWarning: `distplot` is a deprecated function and will be removed in a future version. Please adapt your code to use either `displot` (a figure-level function with similar flexibility) or `histplot` (an axes-level function for histograms).\n",
            "  warnings.warn(msg, FutureWarning)\n",
            "/usr/local/lib/python3.8/dist-packages/seaborn/distributions.py:2619: FutureWarning: `distplot` is a deprecated function and will be removed in a future version. Please adapt your code to use either `displot` (a figure-level function with similar flexibility) or `histplot` (an axes-level function for histograms).\n",
            "  warnings.warn(msg, FutureWarning)\n",
            "/usr/local/lib/python3.8/dist-packages/seaborn/distributions.py:2619: FutureWarning: `distplot` is a deprecated function and will be removed in a future version. Please adapt your code to use either `displot` (a figure-level function with similar flexibility) or `histplot` (an axes-level function for histograms).\n",
            "  warnings.warn(msg, FutureWarning)\n",
            "/usr/local/lib/python3.8/dist-packages/seaborn/distributions.py:2619: FutureWarning: `distplot` is a deprecated function and will be removed in a future version. Please adapt your code to use either `displot` (a figure-level function with similar flexibility) or `histplot` (an axes-level function for histograms).\n",
            "  warnings.warn(msg, FutureWarning)\n"
          ]
        },
        {
          "output_type": "display_data",
          "data": {
            "text/plain": [
              "<Figure size 360x360 with 4 Axes>"
            ],
            "image/png": "[encoded data removed]"
          },
          "metadata": {
            "needs_background": "light"
          }
        },
        {
          "output_type": "stream",
          "name": "stdout",
          "text": [
            "2.66\n",
            "2.15\n",
            "2.34\n",
            "1.92\n"
          ]
        }
      ]
    },
    {
      "cell_type": "code",
      "source": [
        "analyze_skewness('Recency') "
      ],
      "metadata": {
        "colab": {
          "base_uri": "https://localhost:8080/",
          "height": 597
        },
        "id": "b04mIwzG-4r7",
        "outputId": "65da5c0e-401b-4f2a-845e-bcfb46e61158"
      },
      "execution_count": null,
      "outputs": [
        {
          "output_type": "stream",
          "name": "stderr",
          "text": [
            "/usr/local/lib/python3.8/dist-packages/seaborn/distributions.py:2619: FutureWarning: `distplot` is a deprecated function and will be removed in a future version. Please adapt your code to use either `displot` (a figure-level function with similar flexibility) or `histplot` (an axes-level function for histograms).\n",
            "  warnings.warn(msg, FutureWarning)\n",
            "/usr/local/lib/python3.8/dist-packages/seaborn/distributions.py:2619: FutureWarning: `distplot` is a deprecated function and will be removed in a future version. Please adapt your code to use either `displot` (a figure-level function with similar flexibility) or `histplot` (an axes-level function for histograms).\n",
            "  warnings.warn(msg, FutureWarning)\n",
            "/usr/local/lib/python3.8/dist-packages/seaborn/distributions.py:2619: FutureWarning: `distplot` is a deprecated function and will be removed in a future version. Please adapt your code to use either `displot` (a figure-level function with similar flexibility) or `histplot` (an axes-level function for histograms).\n",
            "  warnings.warn(msg, FutureWarning)\n",
            "/usr/local/lib/python3.8/dist-packages/seaborn/distributions.py:2619: FutureWarning: `distplot` is a deprecated function and will be removed in a future version. Please adapt your code to use either `displot` (a figure-level function with similar flexibility) or `histplot` (an axes-level function for histograms).\n",
            "  warnings.warn(msg, FutureWarning)\n"
          ]
        },
        {
          "output_type": "display_data",
          "data": {
            "text/plain": [
              "<Figure size 360x360 with 4 Axes>"
            ],
            "image/png": "[encoded data removed]"
          },
          "metadata": {
            "needs_background": "light"
          }
        },
        {
          "output_type": "stream",
          "name": "stdout",
          "text": [
            "1.01\n",
            "-2.71\n",
            "-0.21\n",
            "0.03\n"
          ]
        }
      ]
    },
    {
      "cell_type": "code",
      "source": [
        "#Transform: \n",
        "df_rfm_t = pd.DataFrame()\n",
        "df_rfm_t['Recency'] = stats.boxcox(df_rfm['Recency'])[0]\n",
        "df_rfm_t['Frequency'] = stats.boxcox(df_rfm['Frequency'])[0]\n",
        "df_rfm_t['Monetary'] = pd.Series(np.cbrt(df_rfm['Monetary'])).values\n",
        "df_rfm_t.head(10)"
      ],
      "metadata": {
        "colab": {
          "base_uri": "https://localhost:8080/",
          "height": 363
        },
        "id": "xWWTWks1_cid",
        "outputId": "7955a5c4-40d7-43a0-8c26-7161943aaa26"
      },
      "execution_count": null,
      "outputs": [
        {
          "output_type": "execute_result",
          "data": {
            "text/plain": [
              "     Recency  Frequency   Monetary\n",
              "0  18.588410   0.115904  17.219754\n",
              "1  24.542427   0.000000  11.444598\n",
              "2  28.935446   0.115904  11.331507\n",
              "3  20.228334   0.000000   3.107233\n",
              "4  24.033726   0.000000  17.099759\n",
              "5  22.593300   0.000000   8.227825\n",
              "6  38.112286   0.115904  12.306899\n",
              "7  22.859985   0.115904   9.085603\n",
              "8  22.992500   0.000000   5.924992\n",
              "9  21.224702   0.000000  26.998628"
            ],
            "text/html": [
              "\n",
              "  <div id=\"df-31cd5898-0dba-4a91-a355-86d1567a6778\">\n",
              "    <div class=\"colab-df-container\">\n",
              "      <div>\n",
              "<style scoped>\n",
              "    .dataframe tbody tr th:only-of-type {\n",
              "        vertical-align: middle;\n",
              "    }\n",
              "\n",
              "    .dataframe tbody tr th {\n",
              "        vertical-align: top;\n",
              "    }\n",
              "\n",
              "    .dataframe thead th {\n",
              "        text-align: right;\n",
              "    }\n",
              "</style>\n",
              "<table border=\"1\" class=\"dataframe\">\n",
              "  <thead>\n",
              "    <tr style=\"text-align: right;\">\n",
              "      <th></th>\n",
              "      <th>Recency</th>\n",
              "      <th>Frequency</th>\n",
              "      <th>Monetary</th>\n",
              "    </tr>\n",
              "  </thead>\n",
              "  <tbody>\n",
              "    <tr>\n",
              "      <th>0</th>\n",
              "      <td>18.588410</td>\n",
              "      <td>0.115904</td>\n",
              "      <td>17.219754</td>\n",
              "    </tr>\n",
              "    <tr>\n",
              "      <th>1</th>\n",
              "      <td>24.542427</td>\n",
              "      <td>0.000000</td>\n",
              "      <td>11.444598</td>\n",
              "    </tr>\n",
              "    <tr>\n",
              "      <th>2</th>\n",
              "      <td>28.935446</td>\n",
              "      <td>0.115904</td>\n",
              "      <td>11.331507</td>\n",
              "    </tr>\n",
              "    <tr>\n",
              "      <th>3</th>\n",
              "      <td>20.228334</td>\n",
              "      <td>0.000000</td>\n",
              "      <td>3.107233</td>\n",
              "    </tr>\n",
              "    <tr>\n",
              "      <th>4</th>\n",
              "      <td>24.033726</td>\n",
              "      <td>0.000000</td>\n",
              "      <td>17.099759</td>\n",
              "    </tr>\n",
              "    <tr>\n",
              "      <th>5</th>\n",
              "      <td>22.593300</td>\n",
              "      <td>0.000000</td>\n",
              "      <td>8.227825</td>\n",
              "    </tr>\n",
              "    <tr>\n",
              "      <th>6</th>\n",
              "      <td>38.112286</td>\n",
              "      <td>0.115904</td>\n",
              "      <td>12.306899</td>\n",
              "    </tr>\n",
              "    <tr>\n",
              "      <th>7</th>\n",
              "      <td>22.859985</td>\n",
              "      <td>0.115904</td>\n",
              "      <td>9.085603</td>\n",
              "    </tr>\n",
              "    <tr>\n",
              "      <th>8</th>\n",
              "      <td>22.992500</td>\n",
              "      <td>0.000000</td>\n",
              "      <td>5.924992</td>\n",
              "    </tr>\n",
              "    <tr>\n",
              "      <th>9</th>\n",
              "      <td>21.224702</td>\n",
              "      <td>0.000000</td>\n",
              "      <td>26.998628</td>\n",
              "    </tr>\n",
              "  </tbody>\n",
              "</table>\n",
              "</div>\n",
              "      <button class=\"colab-df-convert\" onclick=\"convertToInteractive('df-31cd5898-0dba-4a91-a355-86d1567a6778')\"\n",
              "              title=\"Convert this dataframe to an interactive table.\"\n",
              "              style=\"display:none;\">\n",
              "        \n",
              "  <svg xmlns=\"http://www.w3.org/2000/svg\" height=\"24px\"viewBox=\"0 0 24 24\"\n",
              "       width=\"24px\">\n",
              "    <path d=\"M0 0h24v24H0V0z\" fill=\"none\"/>\n",
              "    <path d=\"M18.56 5.44l.94 2.06.94-2.06 2.06-.94-2.06-.94-.94-2.06-.94 2.06-2.06.94zm-11 1L8.5 8.5l.94-2.06 2.06-.94-2.06-.94L8.5 2.5l-.94 2.06-2.06.94zm10 10l.94 2.06.94-2.06 2.06-.94-2.06-.94-.94-2.06-.94 2.06-2.06.94z\"/><path d=\"M17.41 7.96l-1.37-1.37c-.4-.4-.92-.59-1.43-.59-.52 0-1.04.2-1.43.59L10.3 9.45l-7.72 7.72c-.78.78-.78 2.05 0 2.83L4 21.41c.39.39.9.59 1.41.59.51 0 1.02-.2 1.41-.59l7.78-7.78 2.81-2.81c.8-.78.8-2.07 0-2.86zM5.41 20L4 18.59l7.72-7.72 1.47 1.35L5.41 20z\"/>\n",
              "  </svg>\n",
              "      </button>\n",
              "      \n",
              "  <style>\n",
              "    .colab-df-container {\n",
              "      display:flex;\n",
              "      flex-wrap:wrap;\n",
              "      gap: 12px;\n",
              "    }\n",
              "\n",
              "    .colab-df-convert {\n",
              "      background-color: #E8F0FE;\n",
              "      border: none;\n",
              "      border-radius: 50%;\n",
              "      cursor: pointer;\n",
              "      display: none;\n",
              "      fill: #1967D2;\n",
              "      height: 32px;\n",
              "      padding: 0 0 0 0;\n",
              "      width: 32px;\n",
              "    }\n",
              "\n",
              "    .colab-df-convert:hover {\n",
              "      background-color: #E2EBFA;\n",
              "      box-shadow: 0px 1px 2px rgba(60, 64, 67, 0.3), 0px 1px 3px 1px rgba(60, 64, 67, 0.15);\n",
              "      fill: #174EA6;\n",
              "    }\n",
              "\n",
              "    [theme=dark] .colab-df-convert {\n",
              "      background-color: #3B4455;\n",
              "      fill: #D2E3FC;\n",
              "    }\n",
              "\n",
              "    [theme=dark] .colab-df-convert:hover {\n",
              "      background-color: #434B5C;\n",
              "      box-shadow: 0px 1px 3px 1px rgba(0, 0, 0, 0.15);\n",
              "      filter: drop-shadow(0px 1px 2px rgba(0, 0, 0, 0.3));\n",
              "      fill: #FFFFFF;\n",
              "    }\n",
              "  </style>\n",
              "\n",
              "      <script>\n",
              "        const buttonEl =\n",
              "          document.querySelector('#df-31cd5898-0dba-4a91-a355-86d1567a6778 button.colab-df-convert');\n",
              "        buttonEl.style.display =\n",
              "          google.colab.kernel.accessAllowed ? 'block' : 'none';\n",
              "\n",
              "        async function convertToInteractive(key) {\n",
              "          const element = document.querySelector('#df-31cd5898-0dba-4a91-a355-86d1567a6778');\n",
              "          const dataTable =\n",
              "            await google.colab.kernel.invokeFunction('convertToInteractive',\n",
              "                                                     [key], {});\n",
              "          if (!dataTable) return;\n",
              "\n",
              "          const docLinkHtml = 'Like what you see? Visit the ' +\n",
              "            '<a target=\"_blank\" href=https://colab.research.google.com/notebooks/data_table.ipynb>data table notebook</a>'\n",
              "            + ' to learn more about interactive tables.';\n",
              "          element.innerHTML = '';\n",
              "          dataTable['output_type'] = 'display_data';\n",
              "          await google.colab.output.renderOutput(dataTable, element);\n",
              "          const docLink = document.createElement('div');\n",
              "          docLink.innerHTML = docLinkHtml;\n",
              "          element.appendChild(docLink);\n",
              "        }\n",
              "      </script>\n",
              "    </div>\n",
              "  </div>\n",
              "  "
            ]
          },
          "metadata": {},
          "execution_count": 26
        }
      ]
    },
    {
      "cell_type": "code",
      "source": [
        "# Scaling data\n",
        "# Instantiate\n",
        "from sklearn.preprocessing import StandardScaler\n",
        "scaler = StandardScaler()\n",
        "scaler.fit(df_rfm_t)\n",
        "df_rfm_t = scaler.transform(df_rfm_t)"
      ],
      "metadata": {
        "id": "Ll71ltnnquJf"
      },
      "execution_count": null,
      "outputs": []
    },
    {
      "cell_type": "code",
      "source": [
        "#Elbow\n",
        "import random\n",
        "\n",
        "sse = {}\n",
        "for k in range(1,15): \n",
        "  kmeans = KMeans(n_clusters=k, random_state = 42)\n",
        "  kmeans.fit(df_rfm_t) \n",
        "  sse[k] = kmeans.inertia_ \n",
        "\n",
        "plt.xlabel('k')\n",
        "plt.ylabel('SSE')\n",
        "sns.pointplot(x=list(sse.keys()),y=list(sse.values()))\n",
        "plt.show()"
      ],
      "metadata": {
        "id": "Hj91MrdyQ676",
        "colab": {
          "base_uri": "https://localhost:8080/",
          "height": 290
        },
        "outputId": "425169a8-5d8e-49af-92d4-fc6330feb543"
      },
      "execution_count": null,
      "outputs": [
        {
          "output_type": "display_data",
          "data": {
            "text/plain": [
              "<Figure size 432x288 with 1 Axes>"
            ],
            "image/png": "[encoded data removed]"
          },
          "metadata": {
            "needs_background": "light"
          }
        }
      ]
    },
    {
      "cell_type": "code",
      "source": [
        "# kmeans_per_k = [KMeans(n_clusters = k, random_state=42).fit(rfm_df_scaled) for k in range(1, 10)]\n",
        "# silhouette_scores = [silhouette_score(rfm_df_scaled, x.labels_) for x in kmeans_per_k[1:]]\n",
        "# range_n_clusters = [ 2, 3, 4, 5, 6, 7, 8, 9]\n",
        "# plt.figure(figsize=(16,8))\n",
        "# plt.plot(range_n_clusters, silhouette_scores, 'bx-')\n",
        "# plt.xlabel('k')\n",
        "# plt.ylabel('Silhouette score')\n",
        "# plt.title('Silhouette score result')\n",
        "# plt.show()"
      ],
      "metadata": {
        "id": "f3AyiJBb5s5n"
      },
      "execution_count": null,
      "outputs": []
    },
    {
      "cell_type": "code",
      "source": [
        "#Model:\n",
        "model = KMeans(n_clusters=4, random_state=42)\n",
        "model.fit(df_rfm_t)"
      ],
      "metadata": {
        "colab": {
          "base_uri": "https://localhost:8080/"
        },
        "id": "l0UPQNHEEc7H",
        "outputId": "885822ba-f7a9-48dc-d738-2603b72d8b34"
      },
      "execution_count": null,
      "outputs": [
        {
          "output_type": "execute_result",
          "data": {
            "text/plain": [
              "KMeans(n_clusters=4, random_state=42)"
            ]
          },
          "metadata": {},
          "execution_count": 30
        }
      ]
    },
    {
      "cell_type": "code",
      "source": [
        "df_rfm_km = df_rfm\n",
        "df_rfm_km['Cluster'] = model.labels_\n",
        "df_rfm_km.head()"
      ],
      "metadata": {
        "colab": {
          "base_uri": "https://localhost:8080/",
          "height": 237
        },
        "id": "giqS0AGoEmqF",
        "outputId": "a2599f8a-0432-45d5-b509-a0dac84354f1"
      },
      "execution_count": null,
      "outputs": [
        {
          "output_type": "execute_result",
          "data": {
            "text/plain": [
              "            Recency  Frequency  Monetary  Cluster\n",
              "CustomerID                                       \n",
              "C1010011         75          2    5106.0        2\n",
              "C1010012        118          1    1499.0        1\n",
              "C1010014        155          2    1455.0        2\n",
              "C1010018         86          1      30.0        1\n",
              "C1010024        114          1    5000.0        0"
            ],
            "text/html": [
              "\n",
              "  <div id=\"df-3fdd3420-7c0d-4ff9-99b8-f63577a17054\">\n",
              "    <div class=\"colab-df-container\">\n",
              "      <div>\n",
              "<style scoped>\n",
              "    .dataframe tbody tr th:only-of-type {\n",
              "        vertical-align: middle;\n",
              "    }\n",
              "\n",
              "    .dataframe tbody tr th {\n",
              "        vertical-align: top;\n",
              "    }\n",
              "\n",
              "    .dataframe thead th {\n",
              "        text-align: right;\n",
              "    }\n",
              "</style>\n",
              "<table border=\"1\" class=\"dataframe\">\n",
              "  <thead>\n",
              "    <tr style=\"text-align: right;\">\n",
              "      <th></th>\n",
              "      <th>Recency</th>\n",
              "      <th>Frequency</th>\n",
              "      <th>Monetary</th>\n",
              "      <th>Cluster</th>\n",
              "    </tr>\n",
              "    <tr>\n",
              "      <th>CustomerID</th>\n",
              "      <th></th>\n",
              "      <th></th>\n",
              "      <th></th>\n",
              "      <th></th>\n",
              "    </tr>\n",
              "  </thead>\n",
              "  <tbody>\n",
              "    <tr>\n",
              "      <th>C1010011</th>\n",
              "      <td>75</td>\n",
              "      <td>2</td>\n",
              "      <td>5106.0</td>\n",
              "      <td>2</td>\n",
              "    </tr>\n",
              "    <tr>\n",
              "      <th>C1010012</th>\n",
              "      <td>118</td>\n",
              "      <td>1</td>\n",
              "      <td>1499.0</td>\n",
              "      <td>1</td>\n",
              "    </tr>\n",
              "    <tr>\n",
              "      <th>C1010014</th>\n",
              "      <td>155</td>\n",
              "      <td>2</td>\n",
              "      <td>1455.0</td>\n",
              "      <td>2</td>\n",
              "    </tr>\n",
              "    <tr>\n",
              "      <th>C1010018</th>\n",
              "      <td>86</td>\n",
              "      <td>1</td>\n",
              "      <td>30.0</td>\n",
              "      <td>1</td>\n",
              "    </tr>\n",
              "    <tr>\n",
              "      <th>C1010024</th>\n",
              "      <td>114</td>\n",
              "      <td>1</td>\n",
              "      <td>5000.0</td>\n",
              "      <td>0</td>\n",
              "    </tr>\n",
              "  </tbody>\n",
              "</table>\n",
              "</div>\n",
              "      <button class=\"colab-df-convert\" onclick=\"convertToInteractive('df-3fdd3420-7c0d-4ff9-99b8-f63577a17054')\"\n",
              "              title=\"Convert this dataframe to an interactive table.\"\n",
              "              style=\"display:none;\">\n",
              "        \n",
              "  <svg xmlns=\"http://www.w3.org/2000/svg\" height=\"24px\"viewBox=\"0 0 24 24\"\n",
              "       width=\"24px\">\n",
              "    <path d=\"M0 0h24v24H0V0z\" fill=\"none\"/>\n",
              "    <path d=\"M18.56 5.44l.94 2.06.94-2.06 2.06-.94-2.06-.94-.94-2.06-.94 2.06-2.06.94zm-11 1L8.5 8.5l.94-2.06 2.06-.94-2.06-.94L8.5 2.5l-.94 2.06-2.06.94zm10 10l.94 2.06.94-2.06 2.06-.94-2.06-.94-.94-2.06-.94 2.06-2.06.94z\"/><path d=\"M17.41 7.96l-1.37-1.37c-.4-.4-.92-.59-1.43-.59-.52 0-1.04.2-1.43.59L10.3 9.45l-7.72 7.72c-.78.78-.78 2.05 0 2.83L4 21.41c.39.39.9.59 1.41.59.51 0 1.02-.2 1.41-.59l7.78-7.78 2.81-2.81c.8-.78.8-2.07 0-2.86zM5.41 20L4 18.59l7.72-7.72 1.47 1.35L5.41 20z\"/>\n",
              "  </svg>\n",
              "      </button>\n",
              "      \n",
              "  <style>\n",
              "    .colab-df-container {\n",
              "      display:flex;\n",
              "      flex-wrap:wrap;\n",
              "      gap: 12px;\n",
              "    }\n",
              "\n",
              "    .colab-df-convert {\n",
              "      background-color: #E8F0FE;\n",
              "      border: none;\n",
              "      border-radius: 50%;\n",
              "      cursor: pointer;\n",
              "      display: none;\n",
              "      fill: #1967D2;\n",
              "      height: 32px;\n",
              "      padding: 0 0 0 0;\n",
              "      width: 32px;\n",
              "    }\n",
              "\n",
              "    .colab-df-convert:hover {\n",
              "      background-color: #E2EBFA;\n",
              "      box-shadow: 0px 1px 2px rgba(60, 64, 67, 0.3), 0px 1px 3px 1px rgba(60, 64, 67, 0.15);\n",
              "      fill: #174EA6;\n",
              "    }\n",
              "\n",
              "    [theme=dark] .colab-df-convert {\n",
              "      background-color: #3B4455;\n",
              "      fill: #D2E3FC;\n",
              "    }\n",
              "\n",
              "    [theme=dark] .colab-df-convert:hover {\n",
              "      background-color: #434B5C;\n",
              "      box-shadow: 0px 1px 3px 1px rgba(0, 0, 0, 0.15);\n",
              "      filter: drop-shadow(0px 1px 2px rgba(0, 0, 0, 0.3));\n",
              "      fill: #FFFFFF;\n",
              "    }\n",
              "  </style>\n",
              "\n",
              "      <script>\n",
              "        const buttonEl =\n",
              "          document.querySelector('#df-3fdd3420-7c0d-4ff9-99b8-f63577a17054 button.colab-df-convert');\n",
              "        buttonEl.style.display =\n",
              "          google.colab.kernel.accessAllowed ? 'block' : 'none';\n",
              "\n",
              "        async function convertToInteractive(key) {\n",
              "          const element = document.querySelector('#df-3fdd3420-7c0d-4ff9-99b8-f63577a17054');\n",
              "          const dataTable =\n",
              "            await google.colab.kernel.invokeFunction('convertToInteractive',\n",
              "                                                     [key], {});\n",
              "          if (!dataTable) return;\n",
              "\n",
              "          const docLinkHtml = 'Like what you see? Visit the ' +\n",
              "            '<a target=\"_blank\" href=https://colab.research.google.com/notebooks/data_table.ipynb>data table notebook</a>'\n",
              "            + ' to learn more about interactive tables.';\n",
              "          element.innerHTML = '';\n",
              "          dataTable['output_type'] = 'display_data';\n",
              "          await google.colab.output.renderOutput(dataTable, element);\n",
              "          const docLink = document.createElement('div');\n",
              "          docLink.innerHTML = docLinkHtml;\n",
              "          element.appendChild(docLink);\n",
              "        }\n",
              "      </script>\n",
              "    </div>\n",
              "  </div>\n",
              "  "
            ]
          },
          "metadata": {},
          "execution_count": 31
        }
      ]
    },
    {
      "cell_type": "code",
      "source": [
        "pip install kmodes"
      ],
      "metadata": {
        "colab": {
          "base_uri": "https://localhost:8080/"
        },
        "id": "SrJ2XGhv075r",
        "outputId": "27b7b2d8-9703-422f-df8a-9fca9b2c58ae"
      },
      "execution_count": null,
      "outputs": [
        {
          "output_type": "stream",
          "name": "stdout",
          "text": [
            "Looking in indexes: https://pypi.org/simple, https://us-python.pkg.dev/colab-wheels/public/simple/\n",
            "Collecting kmodes\n",
            "  Downloading kmodes-0.12.2-py2.py3-none-any.whl (20 kB)\n",
            "Requirement already satisfied: joblib>=0.11 in /usr/local/lib/python3.8/dist-packages (from kmodes) (1.2.0)\n",
            "Requirement already satisfied: scikit-learn>=0.22.0 in /usr/local/lib/python3.8/dist-packages (from kmodes) (1.0.2)\n",
            "Requirement already satisfied: scipy>=0.13.3 in /usr/local/lib/python3.8/dist-packages (from kmodes) (1.7.3)\n",
            "Requirement already satisfied: numpy>=1.10.4 in /usr/local/lib/python3.8/dist-packages (from kmodes) (1.21.6)\n",
            "Requirement already satisfied: threadpoolctl>=2.0.0 in /usr/local/lib/python3.8/dist-packages (from scikit-learn>=0.22.0->kmodes) (3.1.0)\n",
            "Installing collected packages: kmodes\n",
            "Successfully installed kmodes-0.12.2\n"
          ]
        }
      ]
    },
    {
      "cell_type": "markdown",
      "source": [
        "## RFM model:"
      ],
      "metadata": {
        "id": "Hg8XT-O7BQmX"
      }
    },
    {
      "cell_type": "code",
      "execution_count": null,
      "metadata": {
        "id": "DyaAX2Grvhah"
      },
      "outputs": [],
      "source": [
        "# def RScore(x,p,d): \n",
        "#   if x <= d[p][0.25]: \n",
        "#     return 1 \n",
        "#   elif x <= d[p][0.5]: \n",
        "#     return 2\n",
        "#   elif x <= d[p][0.75]:\n",
        "#     return 3\n",
        "#   else: \n",
        "#     return 4\n",
        "# def FnMScore(x,p,d):\n",
        "#   if x <= d[p][0.25]:\n",
        "#     return 4\n",
        "#   elif x <= d[p][0.5]:\n",
        "#     return 3\n",
        "#   elif x <= d[p][0.75]:\n",
        "#     return 2\n",
        "#   else: \n",
        "#     return 1 "
      ]
    },
    {
      "cell_type": "markdown",
      "source": [
        "Cluster with RFM (quarterly)"
      ],
      "metadata": {
        "id": "eT1EcNCDYjlr"
      }
    },
    {
      "cell_type": "code",
      "source": [
        "# df_rfm_score = df_rfm"
      ],
      "metadata": {
        "id": "f4-BAbNbLB7Y"
      },
      "execution_count": null,
      "outputs": []
    },
    {
      "cell_type": "code",
      "source": [
        "# quantiles = df_rfm_score.quantile(q=[0.25,0.5,0.75])\n",
        "# quantiles = quantiles.to_dict()"
      ],
      "metadata": {
        "id": "CTiRTQ6bK1ce"
      },
      "execution_count": null,
      "outputs": []
    },
    {
      "cell_type": "code",
      "source": [
        "# quantiles"
      ],
      "metadata": {
        "id": "Xychm0GQJmwD"
      },
      "execution_count": null,
      "outputs": []
    },
    {
      "cell_type": "code",
      "source": [
        "# df_rfm_score['R'] = df_rfm_score['Recency'].apply(RScore, args=('Recency',quantiles,))\n",
        "# df_rfm_score['F'] = df_rfm_score['Frequency'].apply(FnMScore, args=('Frequency',quantiles,))\n",
        "# df_rfm_score['M'] = df_rfm_score['Monetary'].apply(FnMScore, args=('Monetary',quantiles,))"
      ],
      "metadata": {
        "id": "AcVsorUiLNYQ"
      },
      "execution_count": null,
      "outputs": []
    },
    {
      "cell_type": "code",
      "source": [
        "# df_rfm_score.head()"
      ],
      "metadata": {
        "id": "z3jRkbjcLs5U"
      },
      "execution_count": null,
      "outputs": []
    },
    {
      "cell_type": "code",
      "source": [
        "# #Calculate RFM total score:\n",
        "# df_rfm_score['RFM_Score'] = df_rfm_score['R'] + df_rfm_score['F'] + df_rfm_score['M']"
      ],
      "metadata": {
        "id": "IMG8hhxkUzQZ"
      },
      "execution_count": null,
      "outputs": []
    },
    {
      "cell_type": "code",
      "execution_count": null,
      "metadata": {
        "id": "Kr8DIkZUF-82"
      },
      "outputs": [],
      "source": [
        "# df_rfm_score['RFM_Group'] = df_rfm_score['R'].map(str) + df_rfm_score['F'].map(str) + df_rfm_score['M'].map(str)"
      ]
    },
    {
      "cell_type": "code",
      "source": [
        "# cust_label = ['Platinum','Gold','Silver','Bronze'] \n",
        "# score_cuts = pd.qcut(df_rfm_score.RFM_Score,q=4,labels=cust_label)\n",
        "# df_rfm_score['Cust_label'] = score_cuts.values"
      ],
      "metadata": {
        "id": "Dov9IUCZNZBL"
      },
      "execution_count": null,
      "outputs": []
    },
    {
      "cell_type": "code",
      "source": [
        "# df_rfm_score.head()"
      ],
      "metadata": {
        "id": "CMKTjS5UOXZE"
      },
      "execution_count": null,
      "outputs": []
    },
    {
      "cell_type": "code",
      "source": [
        "# df_rfm_score.head()"
      ],
      "metadata": {
        "id": "oWe2CtjTydlZ"
      },
      "execution_count": null,
      "outputs": []
    },
    {
      "cell_type": "code",
      "source": [
        "# encode = df_rfm_score"
      ],
      "metadata": {
        "id": "yKZrremN53YF"
      },
      "execution_count": null,
      "outputs": []
    },
    {
      "cell_type": "code",
      "source": [
        "# encode = encode.drop(columns=['R','F','M','RFM_Score','RFM_Group'])"
      ],
      "metadata": {
        "id": "A0RdPjVRBwkI"
      },
      "execution_count": null,
      "outputs": []
    },
    {
      "cell_type": "code",
      "source": [
        "# encode.head()"
      ],
      "metadata": {
        "id": "0oCs-zonxTTn"
      },
      "execution_count": null,
      "outputs": []
    },
    {
      "cell_type": "code",
      "source": [
        "# encode['Cust_label'] = encode['Cust_label'].replace(['Platinum','Gold','Silver','Bronze'],[0,1,2,3])"
      ],
      "metadata": {
        "id": "0D0HjQBixV83"
      },
      "execution_count": null,
      "outputs": []
    },
    {
      "cell_type": "code",
      "source": [
        "# encode.head()"
      ],
      "metadata": {
        "id": "E5ioQiQBx5oC"
      },
      "execution_count": null,
      "outputs": []
    },
    {
      "cell_type": "code",
      "source": [
        "# encode = encode.reset_index()"
      ],
      "metadata": {
        "id": "ORcmxahZ5utg"
      },
      "execution_count": null,
      "outputs": []
    },
    {
      "cell_type": "markdown",
      "source": [
        "## Auto ARIMA: "
      ],
      "metadata": {
        "id": "mSYf1sPuY0zF"
      }
    },
    {
      "cell_type": "code",
      "source": [
        "# #Matching data: \n",
        "# df = df.merge(encode[['CustomerID','Cust_label']])"
      ],
      "metadata": {
        "id": "UIxo2G7SY4An"
      },
      "execution_count": null,
      "outputs": []
    },
    {
      "cell_type": "code",
      "source": [
        "# print(max(df['TransactionDate']))\n",
        "# print(min(df['TransactionDate']))\n",
        "# #Check transactiondate range"
      ],
      "metadata": {
        "id": "MOj9Lu7NZ-q5"
      },
      "execution_count": null,
      "outputs": []
    },
    {
      "cell_type": "code",
      "source": [
        "# df.head()"
      ],
      "metadata": {
        "id": "gMcjb9Ho_kb9"
      },
      "execution_count": null,
      "outputs": []
    },
    {
      "cell_type": "code",
      "source": [
        "# df_2 = df[['CustomerID','TransactionDate','TransactionAmount (INR)','Cust_label']]"
      ],
      "metadata": {
        "id": "wlMBhtsL9fNb"
      },
      "execution_count": null,
      "outputs": []
    },
    {
      "cell_type": "code",
      "source": [
        "# df_2.head()"
      ],
      "metadata": {
        "id": "jb6UWMXDBWx_"
      },
      "execution_count": null,
      "outputs": []
    },
    {
      "cell_type": "code",
      "source": [
        "# df_total = df_2[['TransactionDate','TransactionAmount (INR)']]\n",
        "# df_total = df_total.groupby(df_total['TransactionDate'].dt.date)['TransactionAmount (INR)'].sum()"
      ],
      "metadata": {
        "id": "uLwTyGv9C5dQ"
      },
      "execution_count": null,
      "outputs": []
    },
    {
      "cell_type": "code",
      "source": [
        "# df_total"
      ],
      "metadata": {
        "id": "rWtwvSzmG3i7"
      },
      "execution_count": null,
      "outputs": []
    },
    {
      "cell_type": "code",
      "source": [
        "# #Split dataset base on customer level: \n",
        "# #Platinum: \n",
        "# df_platinum = df_2.loc[df['Cust_label']==0]\n",
        "# # df_platinum = df_platinum[['TransactionDate','TransactionAmount (INR)']]\n",
        "# # df_platinum = df_platinum.groupby(df_platinum['TransactionDate'].dt.date)['TransactionAmount (INR)'].sum()\n",
        "# #Gold: \n",
        "# df_gold = df_2.loc[df['Cust_label']==1]\n",
        "# # df_gold = df_gold[['TransactionDate','TransactionAmount (INR)']]\n",
        "# # df_gold = df_gold.groupby(df_gold['TransactionDate'].dt.date)['TransactionAmount (INR)'].sum()\n",
        "# #Silver: \n",
        "# df_silver = df_2.loc[df['Cust_label']==2]\n",
        "# # df_silver = df_silver[['TransactionDate','TransactionAmount (INR)']] \n",
        "# # df_silver = df_silver.groupby(df_silver['TransactionDate'].dt.date)['TransactionAmount (INR)'].sum()\n",
        "# #Bronze: \n",
        "# df_bronze = df_2.loc[df['Cust_label']==3]\n",
        "# # df_bronze = df_bronze[['TransactionDate','TransactionAmount (INR)']] \n",
        "# # df_bronze = df_bronze.groupby(df_bronze['TransactionDate'].dt.date)['TransactionAmount (INR)'].sum()"
      ],
      "metadata": {
        "id": "lr3ti9B89aFF"
      },
      "execution_count": null,
      "outputs": []
    },
    {
      "cell_type": "code",
      "source": [
        "# df_platinum.head()"
      ],
      "metadata": {
        "id": "Upc8PMqCA9Rm"
      },
      "execution_count": null,
      "outputs": []
    },
    {
      "cell_type": "code",
      "source": [
        "# # install pmdarima to use Auto Arima model: \n",
        "# !pip install pmdarima #--> this package allows to run ARIMA model forecasting automatically"
      ],
      "metadata": {
        "id": "E_LyQu8viEv7"
      },
      "execution_count": null,
      "outputs": []
    },
    {
      "cell_type": "code",
      "source": [
        "# #import modules: \n",
        "# from statsmodels.tsa.arima_model import ARIMA\n",
        "# import pmdarima as pm"
      ],
      "metadata": {
        "id": "ujbQLGwaiRkQ"
      },
      "execution_count": null,
      "outputs": []
    },
    {
      "cell_type": "code",
      "source": [
        "# model = pm.auto_arima(df_total, start_p=1, start_q=1,\n",
        "#                       test='adf',       # use adftest to find optimal 'd'\n",
        "#                       max_p=3, max_q=3, # maximum p and q\n",
        "#                       m=1,              # frequency of series\n",
        "#                       d=None,           # let model determine 'd'\n",
        "#                       seasonal=False,   # No Seasonality\n",
        "#                       start_P=0, \n",
        "#                       D=0, \n",
        "#                       trace=True,\n",
        "#                       error_action='ignore',  \n",
        "#                       suppress_warnings=True, \n",
        "#                       stepwise=True)\n",
        "\n",
        "# print(model.summary())"
      ],
      "metadata": {
        "id": "N6JIqym0i1_8"
      },
      "execution_count": null,
      "outputs": []
    },
    {
      "cell_type": "markdown",
      "source": [
        "## K-prototype:"
      ],
      "metadata": {
        "id": "1owemVR2_Hly"
      }
    },
    {
      "cell_type": "code",
      "source": [
        "df_rfm_kp = df_rfm\n",
        "df_rfm_kp = df_rfm_kp.reset_index()"
      ],
      "metadata": {
        "id": "gXsPmjyR_L7S"
      },
      "execution_count": null,
      "outputs": []
    },
    {
      "cell_type": "code",
      "source": [
        "df_rfm_kp.head()"
      ],
      "metadata": {
        "colab": {
          "base_uri": "https://localhost:8080/",
          "height": 206
        },
        "id": "aIlWtNRh7mNp",
        "outputId": "494d783c-71e4-4fd8-de43-a87ebe3d24af"
      },
      "execution_count": null,
      "outputs": [
        {
          "output_type": "execute_result",
          "data": {
            "text/plain": [
              "  CustomerID    Recency  Frequency   Monetary  CustGender\n",
              "0   C1010011  18.597147   0.241975  17.219754           1\n",
              "1   C1010011  18.597147   0.241975  17.219754           0\n",
              "2   C1010012  24.555468   0.000000  11.444598           0\n",
              "3   C1010014  28.951912   0.241975  11.331507           1\n",
              "4   C1010014  28.951912   0.241975  11.331507           0"
            ],
            "text/html": [
              "\n",
              "  <div id=\"df-cb240750-02bf-4b5b-9b06-de42d6981282\">\n",
              "    <div class=\"colab-df-container\">\n",
              "      <div>\n",
              "<style scoped>\n",
              "    .dataframe tbody tr th:only-of-type {\n",
              "        vertical-align: middle;\n",
              "    }\n",
              "\n",
              "    .dataframe tbody tr th {\n",
              "        vertical-align: top;\n",
              "    }\n",
              "\n",
              "    .dataframe thead th {\n",
              "        text-align: right;\n",
              "    }\n",
              "</style>\n",
              "<table border=\"1\" class=\"dataframe\">\n",
              "  <thead>\n",
              "    <tr style=\"text-align: right;\">\n",
              "      <th></th>\n",
              "      <th>CustomerID</th>\n",
              "      <th>Recency</th>\n",
              "      <th>Frequency</th>\n",
              "      <th>Monetary</th>\n",
              "      <th>CustGender</th>\n",
              "    </tr>\n",
              "  </thead>\n",
              "  <tbody>\n",
              "    <tr>\n",
              "      <th>0</th>\n",
              "      <td>C1010011</td>\n",
              "      <td>18.597147</td>\n",
              "      <td>0.241975</td>\n",
              "      <td>17.219754</td>\n",
              "      <td>1</td>\n",
              "    </tr>\n",
              "    <tr>\n",
              "      <th>1</th>\n",
              "      <td>C1010011</td>\n",
              "      <td>18.597147</td>\n",
              "      <td>0.241975</td>\n",
              "      <td>17.219754</td>\n",
              "      <td>0</td>\n",
              "    </tr>\n",
              "    <tr>\n",
              "      <th>2</th>\n",
              "      <td>C1010012</td>\n",
              "      <td>24.555468</td>\n",
              "      <td>0.000000</td>\n",
              "      <td>11.444598</td>\n",
              "      <td>0</td>\n",
              "    </tr>\n",
              "    <tr>\n",
              "      <th>3</th>\n",
              "      <td>C1010014</td>\n",
              "      <td>28.951912</td>\n",
              "      <td>0.241975</td>\n",
              "      <td>11.331507</td>\n",
              "      <td>1</td>\n",
              "    </tr>\n",
              "    <tr>\n",
              "      <th>4</th>\n",
              "      <td>C1010014</td>\n",
              "      <td>28.951912</td>\n",
              "      <td>0.241975</td>\n",
              "      <td>11.331507</td>\n",
              "      <td>0</td>\n",
              "    </tr>\n",
              "  </tbody>\n",
              "</table>\n",
              "</div>\n",
              "      <button class=\"colab-df-convert\" onclick=\"convertToInteractive('df-cb240750-02bf-4b5b-9b06-de42d6981282')\"\n",
              "              title=\"Convert this dataframe to an interactive table.\"\n",
              "              style=\"display:none;\">\n",
              "        \n",
              "  <svg xmlns=\"http://www.w3.org/2000/svg\" height=\"24px\"viewBox=\"0 0 24 24\"\n",
              "       width=\"24px\">\n",
              "    <path d=\"M0 0h24v24H0V0z\" fill=\"none\"/>\n",
              "    <path d=\"M18.56 5.44l.94 2.06.94-2.06 2.06-.94-2.06-.94-.94-2.06-.94 2.06-2.06.94zm-11 1L8.5 8.5l.94-2.06 2.06-.94-2.06-.94L8.5 2.5l-.94 2.06-2.06.94zm10 10l.94 2.06.94-2.06 2.06-.94-2.06-.94-.94-2.06-.94 2.06-2.06.94z\"/><path d=\"M17.41 7.96l-1.37-1.37c-.4-.4-.92-.59-1.43-.59-.52 0-1.04.2-1.43.59L10.3 9.45l-7.72 7.72c-.78.78-.78 2.05 0 2.83L4 21.41c.39.39.9.59 1.41.59.51 0 1.02-.2 1.41-.59l7.78-7.78 2.81-2.81c.8-.78.8-2.07 0-2.86zM5.41 20L4 18.59l7.72-7.72 1.47 1.35L5.41 20z\"/>\n",
              "  </svg>\n",
              "      </button>\n",
              "      \n",
              "  <style>\n",
              "    .colab-df-container {\n",
              "      display:flex;\n",
              "      flex-wrap:wrap;\n",
              "      gap: 12px;\n",
              "    }\n",
              "\n",
              "    .colab-df-convert {\n",
              "      background-color: #E8F0FE;\n",
              "      border: none;\n",
              "      border-radius: 50%;\n",
              "      cursor: pointer;\n",
              "      display: none;\n",
              "      fill: #1967D2;\n",
              "      height: 32px;\n",
              "      padding: 0 0 0 0;\n",
              "      width: 32px;\n",
              "    }\n",
              "\n",
              "    .colab-df-convert:hover {\n",
              "      background-color: #E2EBFA;\n",
              "      box-shadow: 0px 1px 2px rgba(60, 64, 67, 0.3), 0px 1px 3px 1px rgba(60, 64, 67, 0.15);\n",
              "      fill: #174EA6;\n",
              "    }\n",
              "\n",
              "    [theme=dark] .colab-df-convert {\n",
              "      background-color: #3B4455;\n",
              "      fill: #D2E3FC;\n",
              "    }\n",
              "\n",
              "    [theme=dark] .colab-df-convert:hover {\n",
              "      background-color: #434B5C;\n",
              "      box-shadow: 0px 1px 3px 1px rgba(0, 0, 0, 0.15);\n",
              "      filter: drop-shadow(0px 1px 2px rgba(0, 0, 0, 0.3));\n",
              "      fill: #FFFFFF;\n",
              "    }\n",
              "  </style>\n",
              "\n",
              "      <script>\n",
              "        const buttonEl =\n",
              "          document.querySelector('#df-cb240750-02bf-4b5b-9b06-de42d6981282 button.colab-df-convert');\n",
              "        buttonEl.style.display =\n",
              "          google.colab.kernel.accessAllowed ? 'block' : 'none';\n",
              "\n",
              "        async function convertToInteractive(key) {\n",
              "          const element = document.querySelector('#df-cb240750-02bf-4b5b-9b06-de42d6981282');\n",
              "          const dataTable =\n",
              "            await google.colab.kernel.invokeFunction('convertToInteractive',\n",
              "                                                     [key], {});\n",
              "          if (!dataTable) return;\n",
              "\n",
              "          const docLinkHtml = 'Like what you see? Visit the ' +\n",
              "            '<a target=\"_blank\" href=https://colab.research.google.com/notebooks/data_table.ipynb>data table notebook</a>'\n",
              "            + ' to learn more about interactive tables.';\n",
              "          element.innerHTML = '';\n",
              "          dataTable['output_type'] = 'display_data';\n",
              "          await google.colab.output.renderOutput(dataTable, element);\n",
              "          const docLink = document.createElement('div');\n",
              "          docLink.innerHTML = docLinkHtml;\n",
              "          element.appendChild(docLink);\n",
              "        }\n",
              "      </script>\n",
              "    </div>\n",
              "  </div>\n",
              "  "
            ]
          },
          "metadata": {},
          "execution_count": 128
        }
      ]
    },
    {
      "cell_type": "code",
      "source": [
        "df_rfm_kp = df_rfm_kp.merge(df[['CustomerID','CustGender']])"
      ],
      "metadata": {
        "id": "Na90jtt57x1e"
      },
      "execution_count": null,
      "outputs": []
    },
    {
      "cell_type": "code",
      "source": [
        "#encode:\n",
        "df_rfm_kp['CustGender'] = df_rfm_kp['CustGender'].replace(['M','F'],[0,1])"
      ],
      "metadata": {
        "id": "auEE2OkK72bh"
      },
      "execution_count": null,
      "outputs": []
    },
    {
      "cell_type": "code",
      "source": [
        "# df_rfm_kp = df_rfm_kp.drop(columns = 'Cluster')\n",
        "df_rfm_kp_t = df_rfm_kp"
      ],
      "metadata": {
        "id": "lyYyCgxg77K7"
      },
      "execution_count": null,
      "outputs": []
    },
    {
      "cell_type": "code",
      "source": [
        "df_rfm_kp_t.info()"
      ],
      "metadata": {
        "id": "MANZDZSqHCRd",
        "outputId": "ad2304e0-d33a-485e-bba2-a9df2adf16dc",
        "colab": {
          "base_uri": "https://localhost:8080/"
        }
      },
      "execution_count": null,
      "outputs": [
        {
          "output_type": "stream",
          "name": "stdout",
          "text": [
            "<class 'pandas.core.frame.DataFrame'>\n",
            "Int64Index: 985322 entries, 0 to 985321\n",
            "Data columns (total 5 columns):\n",
            " #   Column      Non-Null Count   Dtype  \n",
            "---  ------      --------------   -----  \n",
            " 0   CustomerID  985322 non-null  object \n",
            " 1   Recency     985322 non-null  float64\n",
            " 2   Frequency   985322 non-null  float64\n",
            " 3   Monetary    985322 non-null  float64\n",
            " 4   CustGender  985322 non-null  int64  \n",
            "dtypes: float64(3), int64(1), object(1)\n",
            "memory usage: 45.1+ MB\n"
          ]
        }
      ]
    },
    {
      "cell_type": "code",
      "source": [
        "#Transform:\n",
        "df_rfm_kp_t['Recency'] = stats.boxcox(df_rfm_kp['Recency'])[0]\n",
        "df_rfm_kp_t['Frequency'] = stats.boxcox(df_rfm_kp['Frequency'])[0]\n",
        "df_rfm_kp_t['Monetary'] = pd.Series(np.cbrt(df_rfm_kp['Monetary'])).values"
      ],
      "metadata": {
        "id": "3D5TyDUe3R84"
      },
      "execution_count": null,
      "outputs": []
    },
    {
      "cell_type": "code",
      "source": [
        "df_rfm_kp_t = df_rfm_kp_t.set_index('CustomerID')"
      ],
      "metadata": {
        "id": "PuZL4qMi9vbC"
      },
      "execution_count": null,
      "outputs": []
    },
    {
      "cell_type": "code",
      "source": [
        "from sklearn.preprocessing import StandardScaler\n",
        "scaler = StandardScaler()\n",
        "scaler.fit(df_rfm_kp_t)\n",
        "df_rfm_kp_t = scaler.transform(df_rfm_kp_t)"
      ],
      "metadata": {
        "id": "dhLsPIxf74pi"
      },
      "execution_count": null,
      "outputs": []
    },
    {
      "cell_type": "code",
      "source": [
        "df_rfm_kp_t[0:][0:]"
      ],
      "metadata": {
        "colab": {
          "base_uri": "https://localhost:8080/",
          "height": 424
        },
        "id": "HJgDynTq4gsk",
        "outputId": "57ecd3dd-5418-4960-95e9-353e75f9d9e0"
      },
      "execution_count": null,
      "outputs": [
        {
          "output_type": "execute_result",
          "data": {
            "text/plain": [
              "       CustomerID    Recency  Frequency   Monetary  CustGender\n",
              "0        C1010011  18.597147   0.241975  17.219754           1\n",
              "1        C1010011  18.597147   0.241975  17.219754           0\n",
              "2        C1010012  24.555468   0.000000  11.444598           0\n",
              "3        C1010014  28.951912   0.241975  11.331507           1\n",
              "4        C1010014  28.951912   0.241975  11.331507           0\n",
              "...           ...        ...        ...        ...         ...\n",
              "985317   C9099836  28.951912   0.000000   8.840823           0\n",
              "985318   C9099877  20.238213   0.000000   6.055049           0\n",
              "985319   C9099919  24.046383   0.000000   5.013298           0\n",
              "985320   C9099941  22.738605   0.000000   3.684031           0\n",
              "985321   C9099956  18.750468   0.000000   9.491220           0\n",
              "\n",
              "[985322 rows x 5 columns]"
            ],
            "text/html": [
              "\n",
              "  <div id=\"df-d843aa0c-75f0-4ea5-981d-a018485315b0\">\n",
              "    <div class=\"colab-df-container\">\n",
              "      <div>\n",
              "<style scoped>\n",
              "    .dataframe tbody tr th:only-of-type {\n",
              "        vertical-align: middle;\n",
              "    }\n",
              "\n",
              "    .dataframe tbody tr th {\n",
              "        vertical-align: top;\n",
              "    }\n",
              "\n",
              "    .dataframe thead th {\n",
              "        text-align: right;\n",
              "    }\n",
              "</style>\n",
              "<table border=\"1\" class=\"dataframe\">\n",
              "  <thead>\n",
              "    <tr style=\"text-align: right;\">\n",
              "      <th></th>\n",
              "      <th>CustomerID</th>\n",
              "      <th>Recency</th>\n",
              "      <th>Frequency</th>\n",
              "      <th>Monetary</th>\n",
              "      <th>CustGender</th>\n",
              "    </tr>\n",
              "  </thead>\n",
              "  <tbody>\n",
              "    <tr>\n",
              "      <th>0</th>\n",
              "      <td>C1010011</td>\n",
              "      <td>18.597147</td>\n",
              "      <td>0.241975</td>\n",
              "      <td>17.219754</td>\n",
              "      <td>1</td>\n",
              "    </tr>\n",
              "    <tr>\n",
              "      <th>1</th>\n",
              "      <td>C1010011</td>\n",
              "      <td>18.597147</td>\n",
              "      <td>0.241975</td>\n",
              "      <td>17.219754</td>\n",
              "      <td>0</td>\n",
              "    </tr>\n",
              "    <tr>\n",
              "      <th>2</th>\n",
              "      <td>C1010012</td>\n",
              "      <td>24.555468</td>\n",
              "      <td>0.000000</td>\n",
              "      <td>11.444598</td>\n",
              "      <td>0</td>\n",
              "    </tr>\n",
              "    <tr>\n",
              "      <th>3</th>\n",
              "      <td>C1010014</td>\n",
              "      <td>28.951912</td>\n",
              "      <td>0.241975</td>\n",
              "      <td>11.331507</td>\n",
              "      <td>1</td>\n",
              "    </tr>\n",
              "    <tr>\n",
              "      <th>4</th>\n",
              "      <td>C1010014</td>\n",
              "      <td>28.951912</td>\n",
              "      <td>0.241975</td>\n",
              "      <td>11.331507</td>\n",
              "      <td>0</td>\n",
              "    </tr>\n",
              "    <tr>\n",
              "      <th>...</th>\n",
              "      <td>...</td>\n",
              "      <td>...</td>\n",
              "      <td>...</td>\n",
              "      <td>...</td>\n",
              "      <td>...</td>\n",
              "    </tr>\n",
              "    <tr>\n",
              "      <th>985317</th>\n",
              "      <td>C9099836</td>\n",
              "      <td>28.951912</td>\n",
              "      <td>0.000000</td>\n",
              "      <td>8.840823</td>\n",
              "      <td>0</td>\n",
              "    </tr>\n",
              "    <tr>\n",
              "      <th>985318</th>\n",
              "      <td>C9099877</td>\n",
              "      <td>20.238213</td>\n",
              "      <td>0.000000</td>\n",
              "      <td>6.055049</td>\n",
              "      <td>0</td>\n",
              "    </tr>\n",
              "    <tr>\n",
              "      <th>985319</th>\n",
              "      <td>C9099919</td>\n",
              "      <td>24.046383</td>\n",
              "      <td>0.000000</td>\n",
              "      <td>5.013298</td>\n",
              "      <td>0</td>\n",
              "    </tr>\n",
              "    <tr>\n",
              "      <th>985320</th>\n",
              "      <td>C9099941</td>\n",
              "      <td>22.738605</td>\n",
              "      <td>0.000000</td>\n",
              "      <td>3.684031</td>\n",
              "      <td>0</td>\n",
              "    </tr>\n",
              "    <tr>\n",
              "      <th>985321</th>\n",
              "      <td>C9099956</td>\n",
              "      <td>18.750468</td>\n",
              "      <td>0.000000</td>\n",
              "      <td>9.491220</td>\n",
              "      <td>0</td>\n",
              "    </tr>\n",
              "  </tbody>\n",
              "</table>\n",
              "<p>985322 rows × 5 columns</p>\n",
              "</div>\n",
              "      <button class=\"colab-df-convert\" onclick=\"convertToInteractive('df-d843aa0c-75f0-4ea5-981d-a018485315b0')\"\n",
              "              title=\"Convert this dataframe to an interactive table.\"\n",
              "              style=\"display:none;\">\n",
              "        \n",
              "  <svg xmlns=\"http://www.w3.org/2000/svg\" height=\"24px\"viewBox=\"0 0 24 24\"\n",
              "       width=\"24px\">\n",
              "    <path d=\"M0 0h24v24H0V0z\" fill=\"none\"/>\n",
              "    <path d=\"M18.56 5.44l.94 2.06.94-2.06 2.06-.94-2.06-.94-.94-2.06-.94 2.06-2.06.94zm-11 1L8.5 8.5l.94-2.06 2.06-.94-2.06-.94L8.5 2.5l-.94 2.06-2.06.94zm10 10l.94 2.06.94-2.06 2.06-.94-2.06-.94-.94-2.06-.94 2.06-2.06.94z\"/><path d=\"M17.41 7.96l-1.37-1.37c-.4-.4-.92-.59-1.43-.59-.52 0-1.04.2-1.43.59L10.3 9.45l-7.72 7.72c-.78.78-.78 2.05 0 2.83L4 21.41c.39.39.9.59 1.41.59.51 0 1.02-.2 1.41-.59l7.78-7.78 2.81-2.81c.8-.78.8-2.07 0-2.86zM5.41 20L4 18.59l7.72-7.72 1.47 1.35L5.41 20z\"/>\n",
              "  </svg>\n",
              "      </button>\n",
              "      \n",
              "  <style>\n",
              "    .colab-df-container {\n",
              "      display:flex;\n",
              "      flex-wrap:wrap;\n",
              "      gap: 12px;\n",
              "    }\n",
              "\n",
              "    .colab-df-convert {\n",
              "      background-color: #E8F0FE;\n",
              "      border: none;\n",
              "      border-radius: 50%;\n",
              "      cursor: pointer;\n",
              "      display: none;\n",
              "      fill: #1967D2;\n",
              "      height: 32px;\n",
              "      padding: 0 0 0 0;\n",
              "      width: 32px;\n",
              "    }\n",
              "\n",
              "    .colab-df-convert:hover {\n",
              "      background-color: #E2EBFA;\n",
              "      box-shadow: 0px 1px 2px rgba(60, 64, 67, 0.3), 0px 1px 3px 1px rgba(60, 64, 67, 0.15);\n",
              "      fill: #174EA6;\n",
              "    }\n",
              "\n",
              "    [theme=dark] .colab-df-convert {\n",
              "      background-color: #3B4455;\n",
              "      fill: #D2E3FC;\n",
              "    }\n",
              "\n",
              "    [theme=dark] .colab-df-convert:hover {\n",
              "      background-color: #434B5C;\n",
              "      box-shadow: 0px 1px 3px 1px rgba(0, 0, 0, 0.15);\n",
              "      filter: drop-shadow(0px 1px 2px rgba(0, 0, 0, 0.3));\n",
              "      fill: #FFFFFF;\n",
              "    }\n",
              "  </style>\n",
              "\n",
              "      <script>\n",
              "        const buttonEl =\n",
              "          document.querySelector('#df-d843aa0c-75f0-4ea5-981d-a018485315b0 button.colab-df-convert');\n",
              "        buttonEl.style.display =\n",
              "          google.colab.kernel.accessAllowed ? 'block' : 'none';\n",
              "\n",
              "        async function convertToInteractive(key) {\n",
              "          const element = document.querySelector('#df-d843aa0c-75f0-4ea5-981d-a018485315b0');\n",
              "          const dataTable =\n",
              "            await google.colab.kernel.invokeFunction('convertToInteractive',\n",
              "                                                     [key], {});\n",
              "          if (!dataTable) return;\n",
              "\n",
              "          const docLinkHtml = 'Like what you see? Visit the ' +\n",
              "            '<a target=\"_blank\" href=https://colab.research.google.com/notebooks/data_table.ipynb>data table notebook</a>'\n",
              "            + ' to learn more about interactive tables.';\n",
              "          element.innerHTML = '';\n",
              "          dataTable['output_type'] = 'display_data';\n",
              "          await google.colab.output.renderOutput(dataTable, element);\n",
              "          const docLink = document.createElement('div');\n",
              "          docLink.innerHTML = docLinkHtml;\n",
              "          element.appendChild(docLink);\n",
              "        }\n",
              "      </script>\n",
              "    </div>\n",
              "  </div>\n",
              "  "
            ]
          },
          "metadata": {},
          "execution_count": 79
        }
      ]
    },
    {
      "cell_type": "code",
      "source": [
        "df_rfm_kp_t.info()"
      ],
      "metadata": {
        "colab": {
          "base_uri": "https://localhost:8080/",
          "height": 165
        },
        "id": "6VQO2Pvk40AQ",
        "outputId": "204e6fad-ee55-44ee-c69c-fbc099921c4d"
      },
      "execution_count": null,
      "outputs": [
        {
          "output_type": "error",
          "ename": "AttributeError",
          "evalue": "ignored",
          "traceback": [
            "\u001b[0;31m---------------------------------------------------------------------------\u001b[0m",
            "\u001b[0;31mAttributeError\u001b[0m                            Traceback (most recent call last)",
            "\u001b[0;32m<ipython-input-126-5c071e7bc4a2>\u001b[0m in \u001b[0;36m<module>\u001b[0;34m\u001b[0m\n\u001b[0;32m----> 1\u001b[0;31m \u001b[0mdf_rfm_kp_t\u001b[0m\u001b[0;34m.\u001b[0m\u001b[0minfo\u001b[0m\u001b[0;34m(\u001b[0m\u001b[0;34m)\u001b[0m\u001b[0;34m\u001b[0m\u001b[0;34m\u001b[0m\u001b[0m\n\u001b[0m",
            "\u001b[0;31mAttributeError\u001b[0m: 'numpy.ndarray' object has no attribute 'info'"
          ]
        }
      ]
    },
    {
      "cell_type": "code",
      "source": [
        "from kmodes.kprototypes import KPrototypes\n",
        "\n",
        "kproto_clusters = KPrototypes(n_clusters=4,random_state=7,init=\"Huang\")\n",
        "df_rfm_kp['Cluster'] = kproto_clusters.fit_predict(df_rfm_kp_t,\n",
        "                                                   categorical = [0,1,2,3])"
      ],
      "metadata": {
        "id": "Z8CdGWY48AhG",
        "colab": {
          "base_uri": "https://localhost:8080/",
          "height": 380
        },
        "outputId": "3e4dbfb6-88c8-4935-a26e-da988a0e7484"
      },
      "execution_count": null,
      "outputs": [
        {
          "output_type": "error",
          "ename": "AssertionError",
          "evalue": "ignored",
          "traceback": [
            "\u001b[0;31m---------------------------------------------------------------------------\u001b[0m",
            "\u001b[0;31mAssertionError\u001b[0m                            Traceback (most recent call last)",
            "\u001b[0;32m<ipython-input-125-110961f9e2dd>\u001b[0m in \u001b[0;36m<module>\u001b[0;34m\u001b[0m\n\u001b[1;32m      2\u001b[0m \u001b[0;34m\u001b[0m\u001b[0m\n\u001b[1;32m      3\u001b[0m \u001b[0mkproto_clusters\u001b[0m \u001b[0;34m=\u001b[0m \u001b[0mKPrototypes\u001b[0m\u001b[0;34m(\u001b[0m\u001b[0mn_clusters\u001b[0m\u001b[0;34m=\u001b[0m\u001b[0;36m4\u001b[0m\u001b[0;34m,\u001b[0m\u001b[0mrandom_state\u001b[0m\u001b[0;34m=\u001b[0m\u001b[0;36m7\u001b[0m\u001b[0;34m,\u001b[0m\u001b[0minit\u001b[0m\u001b[0;34m=\u001b[0m\u001b[0;34m\"Huang\"\u001b[0m\u001b[0;34m)\u001b[0m\u001b[0;34m\u001b[0m\u001b[0;34m\u001b[0m\u001b[0m\n\u001b[0;32m----> 4\u001b[0;31m df_rfm_kp['Cluster'] = kproto_clusters.fit_predict(df_rfm_kp_t,\n\u001b[0m\u001b[1;32m      5\u001b[0m                                                    categorical = [0,1,2,3])\n",
            "\u001b[0;32m/usr/local/lib/python3.8/dist-packages/kmodes/kmodes.py\u001b[0m in \u001b[0;36mfit_predict\u001b[0;34m(self, X, y, **kwargs)\u001b[0m\n\u001b[1;32m    152\u001b[0m         \u001b[0mpredict\u001b[0m\u001b[0;34m(\u001b[0m\u001b[0mX\u001b[0m\u001b[0;34m)\u001b[0m\u001b[0;34m.\u001b[0m\u001b[0;34m\u001b[0m\u001b[0;34m\u001b[0m\u001b[0m\n\u001b[1;32m    153\u001b[0m         \"\"\"\n\u001b[0;32m--> 154\u001b[0;31m         \u001b[0;32mreturn\u001b[0m \u001b[0mself\u001b[0m\u001b[0;34m.\u001b[0m\u001b[0mfit\u001b[0m\u001b[0;34m(\u001b[0m\u001b[0mX\u001b[0m\u001b[0;34m,\u001b[0m \u001b[0;34m**\u001b[0m\u001b[0mkwargs\u001b[0m\u001b[0;34m)\u001b[0m\u001b[0;34m.\u001b[0m\u001b[0mpredict\u001b[0m\u001b[0;34m(\u001b[0m\u001b[0mX\u001b[0m\u001b[0;34m,\u001b[0m \u001b[0;34m**\u001b[0m\u001b[0mkwargs\u001b[0m\u001b[0;34m)\u001b[0m\u001b[0;34m\u001b[0m\u001b[0;34m\u001b[0m\u001b[0m\n\u001b[0m\u001b[1;32m    155\u001b[0m \u001b[0;34m\u001b[0m\u001b[0m\n\u001b[1;32m    156\u001b[0m     \u001b[0;32mdef\u001b[0m \u001b[0mpredict\u001b[0m\u001b[0;34m(\u001b[0m\u001b[0mself\u001b[0m\u001b[0;34m,\u001b[0m \u001b[0mX\u001b[0m\u001b[0;34m,\u001b[0m \u001b[0;34m**\u001b[0m\u001b[0mkwargs\u001b[0m\u001b[0;34m)\u001b[0m\u001b[0;34m:\u001b[0m\u001b[0;34m\u001b[0m\u001b[0;34m\u001b[0m\u001b[0m\n",
            "\u001b[0;32m/usr/local/lib/python3.8/dist-packages/kmodes/kprototypes.py\u001b[0m in \u001b[0;36mfit\u001b[0;34m(self, X, y, categorical, sample_weight)\u001b[0m\n\u001b[1;32m    159\u001b[0m         \u001b[0;31m# the data. The function below returns its value.\u001b[0m\u001b[0;34m\u001b[0m\u001b[0;34m\u001b[0m\u001b[0;34m\u001b[0m\u001b[0m\n\u001b[1;32m    160\u001b[0m         \u001b[0mself\u001b[0m\u001b[0;34m.\u001b[0m\u001b[0m_enc_cluster_centroids\u001b[0m\u001b[0;34m,\u001b[0m \u001b[0mself\u001b[0m\u001b[0;34m.\u001b[0m\u001b[0m_enc_map\u001b[0m\u001b[0;34m,\u001b[0m \u001b[0mself\u001b[0m\u001b[0;34m.\u001b[0m\u001b[0mlabels_\u001b[0m\u001b[0;34m,\u001b[0m \u001b[0mself\u001b[0m\u001b[0;34m.\u001b[0m\u001b[0mcost_\u001b[0m\u001b[0;34m,\u001b[0m\u001b[0;31m \u001b[0m\u001b[0;31m\\\u001b[0m\u001b[0;34m\u001b[0m\u001b[0;34m\u001b[0m\u001b[0m\n\u001b[0;32m--> 161\u001b[0;31m         self.n_iter_, self.epoch_costs_, self.gamma = k_prototypes(\n\u001b[0m\u001b[1;32m    162\u001b[0m             \u001b[0mX\u001b[0m\u001b[0;34m,\u001b[0m\u001b[0;34m\u001b[0m\u001b[0;34m\u001b[0m\u001b[0m\n\u001b[1;32m    163\u001b[0m             \u001b[0mcategorical\u001b[0m\u001b[0;34m,\u001b[0m\u001b[0;34m\u001b[0m\u001b[0;34m\u001b[0m\u001b[0m\n",
            "\u001b[0;32m/usr/local/lib/python3.8/dist-packages/kmodes/kprototypes.py\u001b[0m in \u001b[0;36mk_prototypes\u001b[0;34m(X, categorical, n_clusters, max_iter, num_dissim, cat_dissim, gamma, init, n_init, verbose, random_state, n_jobs, sample_weight)\u001b[0m\n\u001b[1;32m    259\u001b[0m     \u001b[0;32mif\u001b[0m \u001b[0misinstance\u001b[0m\u001b[0;34m(\u001b[0m\u001b[0mcategorical\u001b[0m\u001b[0;34m,\u001b[0m \u001b[0mint\u001b[0m\u001b[0;34m)\u001b[0m\u001b[0;34m:\u001b[0m\u001b[0;34m\u001b[0m\u001b[0;34m\u001b[0m\u001b[0m\n\u001b[1;32m    260\u001b[0m         \u001b[0mcategorical\u001b[0m \u001b[0;34m=\u001b[0m \u001b[0;34m[\u001b[0m\u001b[0mcategorical\u001b[0m\u001b[0;34m]\u001b[0m\u001b[0;34m\u001b[0m\u001b[0;34m\u001b[0m\u001b[0m\n\u001b[0;32m--> 261\u001b[0;31m     \u001b[0;32massert\u001b[0m \u001b[0mlen\u001b[0m\u001b[0;34m(\u001b[0m\u001b[0mcategorical\u001b[0m\u001b[0;34m)\u001b[0m \u001b[0;34m!=\u001b[0m \u001b[0mX\u001b[0m\u001b[0;34m.\u001b[0m\u001b[0mshape\u001b[0m\u001b[0;34m[\u001b[0m\u001b[0;36m1\u001b[0m\u001b[0;34m]\u001b[0m\u001b[0;34m,\u001b[0m\u001b[0;31m \u001b[0m\u001b[0;31m\\\u001b[0m\u001b[0;34m\u001b[0m\u001b[0;34m\u001b[0m\u001b[0m\n\u001b[0m\u001b[1;32m    262\u001b[0m         \u001b[0;34m\"All columns are categorical, use k-modes instead of k-prototypes.\"\u001b[0m\u001b[0;34m\u001b[0m\u001b[0;34m\u001b[0m\u001b[0m\n\u001b[1;32m    263\u001b[0m     \u001b[0;32massert\u001b[0m \u001b[0mmax\u001b[0m\u001b[0;34m(\u001b[0m\u001b[0mcategorical\u001b[0m\u001b[0;34m)\u001b[0m \u001b[0;34m<\u001b[0m \u001b[0mX\u001b[0m\u001b[0;34m.\u001b[0m\u001b[0mshape\u001b[0m\u001b[0;34m[\u001b[0m\u001b[0;36m1\u001b[0m\u001b[0;34m]\u001b[0m\u001b[0;34m,\u001b[0m\u001b[0;31m \u001b[0m\u001b[0;31m\\\u001b[0m\u001b[0;34m\u001b[0m\u001b[0;34m\u001b[0m\u001b[0m\n",
            "\u001b[0;31mAssertionError\u001b[0m: All columns are categorical, use k-modes instead of k-prototypes."
          ]
        }
      ]
    }
  ],
  "metadata": {
    "colab": {
      "provenance": []
    },
    "kernelspec": {
      "display_name": "Python 3",
      "name": "python3"
    },
    "language_info": {
      "name": "python"
    },
    "gpuClass": "standard"
  },
  "nbformat": 4,
  "nbformat_minor": 0
}